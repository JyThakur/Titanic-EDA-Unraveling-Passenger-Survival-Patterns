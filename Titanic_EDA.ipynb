{
  "metadata": {
    "papermill": {
      "default_parameters": {},
      "duration": 27.677643,
      "end_time": "2023-03-17T15:33:23.228820",
      "environment_variables": {},
      "exception": null,
      "input_path": "__notebook__.ipynb",
      "output_path": "__notebook__.ipynb",
      "parameters": {},
      "start_time": "2023-03-17T15:32:55.551177",
      "version": "2.3.3"
    },
    "kernelspec": {
      "name": "python",
      "display_name": "Python (Pyodide)",
      "language": "python"
    },
    "language_info": {
      "codemirror_mode": {
        "name": "python",
        "version": 3
      },
      "file_extension": ".py",
      "mimetype": "text/x-python",
      "name": "python",
      "nbconvert_exporter": "python",
      "pygments_lexer": "ipython3",
      "version": "3.8"
    }
  },
  "nbformat_minor": 5,
  "nbformat": 4,
  "cells": [
    {
      "cell_type": "markdown",
      "source": "---\n## **Problem Statement**\n---\n### To understand the behavior and correlation of all the variables against Target varibale **Survived**. \nNote: EDA (Exploratory Data Analysis) steps will be performed to attempt a solution for given problem statement \n\n---\n\n### **EDA steps to be accomplished**\n\n---\n\n1. Reading and Understanding Data\n  - Checking for Incorrect Datatypes, Missing values and Null values\n  - Checking Outliers and Invalid values\n2. Data Visualization\n  - Comparing Survived against different variables\n    - Survived Vs Pclass\n    - Survived Vs Sex\n    - Survived Vs Age\n      - Survived Vs Age_Bins\n    - Survived Vs SibSp\n    - Survived Vs Parch\n    - Survived Vs Embarked\n3. Data Preparation\n  - Dropping Irrelevant variables\n  - Convert Categorical variable to Ordinal variables\n  - Visualize Correlation between all variables\n4. Using Machine Learning Algorithm\n  - Logistic Regression\n  - K Nearest Neighbors\n  - Decision Tree",
      "metadata": {
        "papermill": {
          "duration": 0.057301,
          "end_time": "2023-03-17T15:33:04.938959",
          "exception": false,
          "start_time": "2023-03-17T15:33:04.881658",
          "status": "completed"
        },
        "tags": []
      },
      "id": "1d2e6a11"
    },
    {
      "cell_type": "code",
      "source": "# Loading Dataset\n\nimport os\nfor dirname, _, filenames in os.walk('/kaggle/input'):\n    for filename in filenames:\n        print(os.path.join(dirname, filename))",
      "metadata": {
        "_cell_guid": "b1076dfc-b9ad-4769-8c92-a6c4dae69d19",
        "_uuid": "8f2839f25d086af736a60e9eeb907d3b93b6e0e5",
        "execution": {
          "iopub.execute_input": "2023-03-17T15:33:05.044296Z",
          "iopub.status.busy": "2023-03-17T15:33:05.043098Z",
          "iopub.status.idle": "2023-03-17T15:33:05.058391Z",
          "shell.execute_reply": "2023-03-17T15:33:05.059381Z",
          "shell.execute_reply.started": "2023-03-17T15:17:15.932683Z"
        },
        "papermill": {
          "duration": 0.068914,
          "end_time": "2023-03-17T15:33:05.059774",
          "exception": false,
          "start_time": "2023-03-17T15:33:04.990860",
          "status": "completed"
        },
        "tags": []
      },
      "execution_count": 1,
      "outputs": [
        {
          "name": "stdout",
          "output_type": "stream",
          "text": "/kaggle/input/titanic/train.csv\n\n/kaggle/input/titanic/test.csv\n"
        }
      ],
      "id": "3b69c655"
    },
    {
      "cell_type": "code",
      "source": "# command to ignore warnings during filtering\nimport warnings\nwarnings.filterwarnings('ignore')\n\n# importing libraries\nimport numpy as np\nimport pandas as pd\n\n# data visualization library\nimport matplotlib.pyplot as plt\nimport seaborn as sns\n\n# machine learning library\nfrom sklearn.preprocessing import LabelEncoder\nfrom sklearn.linear_model import LogisticRegression\nfrom sklearn.metrics import classification_report, confusion_matrix\nfrom sklearn.model_selection import train_test_split\nfrom sklearn.neighbors import KNeighborsClassifier\nfrom sklearn.tree import DecisionTreeClassifier\n\n# evaluation metrics library\nfrom sklearn.metrics import classification_report\nfrom sklearn.metrics import confusion_matrix, ConfusionMatrixDisplay\nfrom sklearn.metrics import roc_auc_score, roc_curve\nfrom sklearn.metrics import accuracy_score\n\n# commands to display all rows and columns\npd.set_option('display.max_columns', None)\npd.set_option('display.max_rows', None)",
      "metadata": {
        "execution": {
          "iopub.execute_input": "2023-03-17T15:33:05.164224Z",
          "iopub.status.busy": "2023-03-17T15:33:05.163199Z",
          "iopub.status.idle": "2023-03-17T15:33:06.460593Z",
          "shell.execute_reply": "2023-03-17T15:33:06.461333Z",
          "shell.execute_reply.started": "2023-03-17T15:17:15.946364Z"
        },
        "papermill": {
          "duration": 1.351826,
          "end_time": "2023-03-17T15:33:06.461613",
          "exception": false,
          "start_time": "2023-03-17T15:33:05.109787",
          "status": "completed"
        },
        "tags": []
      },
      "execution_count": 2,
      "outputs": [],
      "id": "9fdc360f"
    },
    {
      "cell_type": "markdown",
      "source": "# Step 1: **Reading and Understanding Data**",
      "metadata": {
        "papermill": {
          "duration": 0.049478,
          "end_time": "2023-03-17T15:33:06.561411",
          "exception": false,
          "start_time": "2023-03-17T15:33:06.511933",
          "status": "completed"
        },
        "tags": []
      },
      "id": "62dc7e37"
    },
    {
      "cell_type": "code",
      "source": "# reading unlabelled data\ndf = pd.read_csv(\"/kaggle/input/titanic/train.csv\")\n\n# moving target column to the last\ndf = df.reindex(columns = [col for col in df.columns if col != 'Survived'] + ['Survived'])\n\ndf.head()",
      "metadata": {
        "execution": {
          "iopub.execute_input": "2023-03-17T15:33:06.665779Z",
          "iopub.status.busy": "2023-03-17T15:33:06.665077Z",
          "iopub.status.idle": "2023-03-17T15:33:06.710334Z",
          "shell.execute_reply": "2023-03-17T15:33:06.710825Z",
          "shell.execute_reply.started": "2023-03-17T15:17:17.369287Z"
        },
        "papermill": {
          "duration": 0.099752,
          "end_time": "2023-03-17T15:33:06.711013",
          "exception": false,
          "start_time": "2023-03-17T15:33:06.611261",
          "status": "completed"
        },
        "tags": []
      },
      "execution_count": 3,
      "outputs": [
        {
          "execution_count": 3,
          "output_type": "execute_result",
          "data": {
            "text/html": [
              "<div>\n",
              "<style scoped>\n",
              "    .dataframe tbody tr th:only-of-type {\n",
              "        vertical-align: middle;\n",
              "    }\n",
              "\n",
              "    .dataframe tbody tr th {\n",
              "        vertical-align: top;\n",
              "    }\n",
              "\n",
              "    .dataframe thead th {\n",
              "        text-align: right;\n",
              "    }\n",
              "</style>\n",
              "<table border=\"1\" class=\"dataframe\">\n",
              "  <thead>\n",
              "    <tr style=\"text-align: right;\">\n",
              "      <th></th>\n",
              "      <th>PassengerId</th>\n",
              "      <th>Pclass</th>\n",
              "      <th>Name</th>\n",
              "      <th>Sex</th>\n",
              "      <th>Age</th>\n",
              "      <th>SibSp</th>\n",
              "      <th>Parch</th>\n",
              "      <th>Ticket</th>\n",
              "      <th>Fare</th>\n",
              "      <th>Cabin</th>\n",
              "      <th>Embarked</th>\n",
              "      <th>Survived</th>\n",
              "    </tr>\n",
              "  </thead>\n",
              "  <tbody>\n",
              "    <tr>\n",
              "      <th>0</th>\n",
              "      <td>1</td>\n",
              "      <td>3</td>\n",
              "      <td>Braund, Mr. Owen Harris</td>\n",
              "      <td>male</td>\n",
              "      <td>22.0</td>\n",
              "      <td>1</td>\n",
              "      <td>0</td>\n",
              "      <td>A/5 21171</td>\n",
              "      <td>7.2500</td>\n",
              "      <td>NaN</td>\n",
              "      <td>S</td>\n",
              "      <td>0</td>\n",
              "    </tr>\n",
              "    <tr>\n",
              "      <th>1</th>\n",
              "      <td>2</td>\n",
              "      <td>1</td>\n",
              "      <td>Cumings, Mrs. John Bradley (Florence Briggs Th...</td>\n",
              "      <td>female</td>\n",
              "      <td>38.0</td>\n",
              "      <td>1</td>\n",
              "      <td>0</td>\n",
              "      <td>PC 17599</td>\n",
              "      <td>71.2833</td>\n",
              "      <td>C85</td>\n",
              "      <td>C</td>\n",
              "      <td>1</td>\n",
              "    </tr>\n",
              "    <tr>\n",
              "      <th>2</th>\n",
              "      <td>3</td>\n",
              "      <td>3</td>\n",
              "      <td>Heikkinen, Miss. Laina</td>\n",
              "      <td>female</td>\n",
              "      <td>26.0</td>\n",
              "      <td>0</td>\n",
              "      <td>0</td>\n",
              "      <td>STON/O2. 3101282</td>\n",
              "      <td>7.9250</td>\n",
              "      <td>NaN</td>\n",
              "      <td>S</td>\n",
              "      <td>1</td>\n",
              "    </tr>\n",
              "    <tr>\n",
              "      <th>3</th>\n",
              "      <td>4</td>\n",
              "      <td>1</td>\n",
              "      <td>Futrelle, Mrs. Jacques Heath (Lily May Peel)</td>\n",
              "      <td>female</td>\n",
              "      <td>35.0</td>\n",
              "      <td>1</td>\n",
              "      <td>0</td>\n",
              "      <td>113803</td>\n",
              "      <td>53.1000</td>\n",
              "      <td>C123</td>\n",
              "      <td>S</td>\n",
              "      <td>1</td>\n",
              "    </tr>\n",
              "    <tr>\n",
              "      <th>4</th>\n",
              "      <td>5</td>\n",
              "      <td>3</td>\n",
              "      <td>Allen, Mr. William Henry</td>\n",
              "      <td>male</td>\n",
              "      <td>35.0</td>\n",
              "      <td>0</td>\n",
              "      <td>0</td>\n",
              "      <td>373450</td>\n",
              "      <td>8.0500</td>\n",
              "      <td>NaN</td>\n",
              "      <td>S</td>\n",
              "      <td>0</td>\n",
              "    </tr>\n",
              "  </tbody>\n",
              "</table>\n",
              "</div>"
            ],
            "text/plain": [
              "   PassengerId  Pclass                                               Name  \\\n",
              "0            1       3                            Braund, Mr. Owen Harris   \n",
              "1            2       1  Cumings, Mrs. John Bradley (Florence Briggs Th...   \n",
              "2            3       3                             Heikkinen, Miss. Laina   \n",
              "3            4       1       Futrelle, Mrs. Jacques Heath (Lily May Peel)   \n",
              "4            5       3                           Allen, Mr. William Henry   \n",
              "\n",
              "      Sex   Age  SibSp  Parch            Ticket     Fare Cabin Embarked  \\\n",
              "0    male  22.0      1      0         A/5 21171   7.2500   NaN        S   \n",
              "1  female  38.0      1      0          PC 17599  71.2833   C85        C   \n",
              "2  female  26.0      0      0  STON/O2. 3101282   7.9250   NaN        S   \n",
              "3  female  35.0      1      0            113803  53.1000  C123        S   \n",
              "4    male  35.0      0      0            373450   8.0500   NaN        S   \n",
              "\n",
              "   Survived  \n",
              "0         0  \n",
              "1         1  \n",
              "2         1  \n",
              "3         1  \n",
              "4         0  "
            ]
          },
          "metadata": {}
        }
      ],
      "id": "4b2d4934"
    },
    {
      "cell_type": "code",
      "source": "# checking no. of rows and columns\ndf.shape",
      "metadata": {
        "execution": {
          "iopub.execute_input": "2023-03-17T15:33:06.813485Z",
          "iopub.status.busy": "2023-03-17T15:33:06.812478Z",
          "iopub.status.idle": "2023-03-17T15:33:06.817680Z",
          "shell.execute_reply": "2023-03-17T15:33:06.818270Z",
          "shell.execute_reply.started": "2023-03-17T15:17:17.426662Z"
        },
        "papermill": {
          "duration": 0.058341,
          "end_time": "2023-03-17T15:33:06.818457",
          "exception": false,
          "start_time": "2023-03-17T15:33:06.760116",
          "status": "completed"
        },
        "tags": []
      },
      "execution_count": 4,
      "outputs": [
        {
          "execution_count": 4,
          "output_type": "execute_result",
          "data": {
            "text/plain": [
              "(891, 12)"
            ]
          },
          "metadata": {}
        }
      ],
      "id": "e55c3acc"
    },
    {
      "cell_type": "markdown",
      "source": "#### Observations:\n- There are 891 rows and 11 columns with 1 target column making total 12 columns",
      "metadata": {
        "papermill": {
          "duration": 0.050346,
          "end_time": "2023-03-17T15:33:06.918657",
          "exception": false,
          "start_time": "2023-03-17T15:33:06.868311",
          "status": "completed"
        },
        "tags": []
      },
      "id": "2f15145a"
    },
    {
      "cell_type": "markdown",
      "source": "### 1.1 Checking for **Incorrect Datatypes, Missing values and Null values**",
      "metadata": {
        "papermill": {
          "duration": 0.049419,
          "end_time": "2023-03-17T15:33:07.019631",
          "exception": false,
          "start_time": "2023-03-17T15:33:06.970212",
          "status": "completed"
        },
        "tags": []
      },
      "id": "b2ca463a"
    },
    {
      "cell_type": "code",
      "source": "# summary\ndf.info()",
      "metadata": {
        "execution": {
          "iopub.execute_input": "2023-03-17T15:33:07.124161Z",
          "iopub.status.busy": "2023-03-17T15:33:07.123202Z",
          "iopub.status.idle": "2023-03-17T15:33:07.141516Z",
          "shell.execute_reply": "2023-03-17T15:33:07.142380Z",
          "shell.execute_reply.started": "2023-03-17T15:17:17.435510Z"
        },
        "papermill": {
          "duration": 0.073064,
          "end_time": "2023-03-17T15:33:07.142687",
          "exception": false,
          "start_time": "2023-03-17T15:33:07.069623",
          "status": "completed"
        },
        "tags": []
      },
      "execution_count": 5,
      "outputs": [
        {
          "name": "stdout",
          "output_type": "stream",
          "text": "<class 'pandas.core.frame.DataFrame'>\n\nRangeIndex: 891 entries, 0 to 890\n\nData columns (total 12 columns):\n\n #   Column       Non-Null Count  Dtype  \n\n---  ------       --------------  -----  \n\n 0   PassengerId  891 non-null    int64  \n\n 1   Pclass       891 non-null    int64  \n\n 2   Name         891 non-null    object \n\n 3   Sex          891 non-null    object \n\n 4   Age          714 non-null    float64\n\n 5   SibSp        891 non-null    int64  \n\n 6   Parch        891 non-null    int64  \n\n 7   Ticket       891 non-null    object \n\n 8   Fare         891 non-null    float64\n\n 9   Cabin        204 non-null    object \n\n 10  Embarked     889 non-null    object \n\n 11  Survived     891 non-null    int64  \n\ndtypes: float64(2), int64(5), object(5)\n\nmemory usage: 83.7+ KB\n"
        }
      ],
      "id": "525ac8a7"
    },
    {
      "cell_type": "markdown",
      "source": "#### Observations:\n- `Age` datatype needs to be changed to int but before let's check for the null values in it, as null values could through error while changing datatypes\n- Datatype for `Age` column needs to be changed as age in never in fractional form.\n- Columns like `Cabin, Age` have huge number of missing values which needs to be treated before proceedings.\n- Even `Embarked` is having null values which can be imputed.",
      "metadata": {
        "papermill": {
          "duration": 0.051096,
          "end_time": "2023-03-17T15:33:07.245689",
          "exception": false,
          "start_time": "2023-03-17T15:33:07.194593",
          "status": "completed"
        },
        "tags": []
      },
      "id": "60627570"
    },
    {
      "cell_type": "code",
      "source": "# counting null/na values in the columns\ndf.isna().sum()",
      "metadata": {
        "execution": {
          "iopub.execute_input": "2023-03-17T15:33:07.354705Z",
          "iopub.status.busy": "2023-03-17T15:33:07.353980Z",
          "iopub.status.idle": "2023-03-17T15:33:07.356586Z",
          "shell.execute_reply": "2023-03-17T15:33:07.357081Z",
          "shell.execute_reply.started": "2023-03-17T15:17:17.459367Z"
        },
        "papermill": {
          "duration": 0.061768,
          "end_time": "2023-03-17T15:33:07.357258",
          "exception": false,
          "start_time": "2023-03-17T15:33:07.295490",
          "status": "completed"
        },
        "tags": []
      },
      "execution_count": 6,
      "outputs": [
        {
          "execution_count": 6,
          "output_type": "execute_result",
          "data": {
            "text/plain": [
              "PassengerId      0\n",
              "Pclass           0\n",
              "Name             0\n",
              "Sex              0\n",
              "Age            177\n",
              "SibSp            0\n",
              "Parch            0\n",
              "Ticket           0\n",
              "Fare             0\n",
              "Cabin          687\n",
              "Embarked         2\n",
              "Survived         0\n",
              "dtype: int64"
            ]
          },
          "metadata": {}
        }
      ],
      "id": "bc627d36"
    },
    {
      "cell_type": "code",
      "source": "# calculating percentage of missing values\n((df.isna()|df.isnull()).sum() * 100 / len(df)).round(2)",
      "metadata": {
        "execution": {
          "iopub.execute_input": "2023-03-17T15:33:07.464632Z",
          "iopub.status.busy": "2023-03-17T15:33:07.463946Z",
          "iopub.status.idle": "2023-03-17T15:33:07.470782Z",
          "shell.execute_reply": "2023-03-17T15:33:07.471342Z",
          "shell.execute_reply.started": "2023-03-17T15:17:17.470678Z"
        },
        "papermill": {
          "duration": 0.064232,
          "end_time": "2023-03-17T15:33:07.471520",
          "exception": false,
          "start_time": "2023-03-17T15:33:07.407288",
          "status": "completed"
        },
        "tags": []
      },
      "execution_count": 7,
      "outputs": [
        {
          "execution_count": 7,
          "output_type": "execute_result",
          "data": {
            "text/plain": [
              "PassengerId     0.00\n",
              "Pclass          0.00\n",
              "Name            0.00\n",
              "Sex             0.00\n",
              "Age            19.87\n",
              "SibSp           0.00\n",
              "Parch           0.00\n",
              "Ticket          0.00\n",
              "Fare            0.00\n",
              "Cabin          77.10\n",
              "Embarked        0.22\n",
              "Survived        0.00\n",
              "dtype: float64"
            ]
          },
          "metadata": {}
        }
      ],
      "id": "c4fe4c88"
    },
    {
      "cell_type": "markdown",
      "source": "#### Observations:\n##### If a column has missing value percentage more than 50% than those columns should not be dropped as it could significantly affect the final outcome.\n1. The percentage of `Age` column with missing values is 19.87% which can be dropped.\n2. `Cabin` column has higher number of missing value i.e. 77.10%, hence, these can't be dropped but could be imputed using mode (selecting most frequent value).\n3. Similarly, `Embarked` column could be imputed using mode.",
      "metadata": {
        "papermill": {
          "duration": 0.050679,
          "end_time": "2023-03-17T15:33:07.572569",
          "exception": false,
          "start_time": "2023-03-17T15:33:07.521890",
          "status": "completed"
        },
        "tags": []
      },
      "id": "c5e9c667"
    },
    {
      "cell_type": "code",
      "source": "# 1. Dropping missing values in 'Age' column\ndf=df[df['Age'].notnull()]\n\n# Cross-checking the changes\ndf.isnull().sum()",
      "metadata": {
        "execution": {
          "iopub.execute_input": "2023-03-17T15:33:07.677756Z",
          "iopub.status.busy": "2023-03-17T15:33:07.677061Z",
          "iopub.status.idle": "2023-03-17T15:33:07.685589Z",
          "shell.execute_reply": "2023-03-17T15:33:07.686124Z",
          "shell.execute_reply.started": "2023-03-17T15:17:17.487049Z"
        },
        "papermill": {
          "duration": 0.06323,
          "end_time": "2023-03-17T15:33:07.686301",
          "exception": false,
          "start_time": "2023-03-17T15:33:07.623071",
          "status": "completed"
        },
        "tags": []
      },
      "execution_count": 8,
      "outputs": [
        {
          "execution_count": 8,
          "output_type": "execute_result",
          "data": {
            "text/plain": [
              "PassengerId      0\n",
              "Pclass           0\n",
              "Name             0\n",
              "Sex              0\n",
              "Age              0\n",
              "SibSp            0\n",
              "Parch            0\n",
              "Ticket           0\n",
              "Fare             0\n",
              "Cabin          529\n",
              "Embarked         2\n",
              "Survived         0\n",
              "dtype: int64"
            ]
          },
          "metadata": {}
        }
      ],
      "id": "155b069e"
    },
    {
      "cell_type": "code",
      "source": "# Age data type should be int\n# Changing datatype of Age column to 'int' type\ndf['Age'] = df['Age'].astype('int64')\n\n# confirming changes\ndf.dtypes",
      "metadata": {
        "execution": {
          "iopub.execute_input": "2023-03-17T15:33:07.792554Z",
          "iopub.status.busy": "2023-03-17T15:33:07.791840Z",
          "iopub.status.idle": "2023-03-17T15:33:07.799070Z",
          "shell.execute_reply": "2023-03-17T15:33:07.799614Z",
          "shell.execute_reply.started": "2023-03-17T15:17:17.501921Z"
        },
        "papermill": {
          "duration": 0.062548,
          "end_time": "2023-03-17T15:33:07.799813",
          "exception": false,
          "start_time": "2023-03-17T15:33:07.737265",
          "status": "completed"
        },
        "tags": []
      },
      "execution_count": 9,
      "outputs": [
        {
          "execution_count": 9,
          "output_type": "execute_result",
          "data": {
            "text/plain": [
              "PassengerId      int64\n",
              "Pclass           int64\n",
              "Name            object\n",
              "Sex             object\n",
              "Age              int64\n",
              "SibSp            int64\n",
              "Parch            int64\n",
              "Ticket          object\n",
              "Fare           float64\n",
              "Cabin           object\n",
              "Embarked        object\n",
              "Survived         int64\n",
              "dtype: object"
            ]
          },
          "metadata": {}
        }
      ],
      "id": "f299878a"
    },
    {
      "cell_type": "code",
      "source": "# 2. & 3. Imputing null values with most frequent values in Cabin and Embarked coulmns using mode()\ndf.fillna(df.select_dtypes(include='object').mode().iloc[0], inplace=True)\n\n# conforming changes\ndf.isnull().sum()",
      "metadata": {
        "execution": {
          "iopub.execute_input": "2023-03-17T15:33:07.906354Z",
          "iopub.status.busy": "2023-03-17T15:33:07.905699Z",
          "iopub.status.idle": "2023-03-17T15:33:07.922741Z",
          "shell.execute_reply": "2023-03-17T15:33:07.922223Z",
          "shell.execute_reply.started": "2023-03-17T15:17:17.516416Z"
        },
        "papermill": {
          "duration": 0.071933,
          "end_time": "2023-03-17T15:33:07.922898",
          "exception": false,
          "start_time": "2023-03-17T15:33:07.850965",
          "status": "completed"
        },
        "tags": []
      },
      "execution_count": 10,
      "outputs": [
        {
          "execution_count": 10,
          "output_type": "execute_result",
          "data": {
            "text/plain": [
              "PassengerId    0\n",
              "Pclass         0\n",
              "Name           0\n",
              "Sex            0\n",
              "Age            0\n",
              "SibSp          0\n",
              "Parch          0\n",
              "Ticket         0\n",
              "Fare           0\n",
              "Cabin          0\n",
              "Embarked       0\n",
              "Survived       0\n",
              "dtype: int64"
            ]
          },
          "metadata": {}
        }
      ],
      "id": "fa72688e"
    },
    {
      "cell_type": "markdown",
      "source": "### 1.2 Checking **Outliers and Invalid values**",
      "metadata": {
        "papermill": {
          "duration": 0.057583,
          "end_time": "2023-03-17T15:33:08.035544",
          "exception": false,
          "start_time": "2023-03-17T15:33:07.977961",
          "status": "completed"
        },
        "tags": []
      },
      "id": "1dce38f6"
    },
    {
      "cell_type": "code",
      "source": "# describing dataset\ndf.describe()",
      "metadata": {
        "execution": {
          "iopub.execute_input": "2023-03-17T15:33:08.158001Z",
          "iopub.status.busy": "2023-03-17T15:33:08.156944Z",
          "iopub.status.idle": "2023-03-17T15:33:08.183606Z",
          "shell.execute_reply": "2023-03-17T15:33:08.184699Z",
          "shell.execute_reply.started": "2023-03-17T15:17:17.546386Z"
        },
        "papermill": {
          "duration": 0.097414,
          "end_time": "2023-03-17T15:33:08.184902",
          "exception": false,
          "start_time": "2023-03-17T15:33:08.087488",
          "status": "completed"
        },
        "tags": []
      },
      "execution_count": 11,
      "outputs": [
        {
          "execution_count": 11,
          "output_type": "execute_result",
          "data": {
            "text/html": [
              "<div>\n",
              "<style scoped>\n",
              "    .dataframe tbody tr th:only-of-type {\n",
              "        vertical-align: middle;\n",
              "    }\n",
              "\n",
              "    .dataframe tbody tr th {\n",
              "        vertical-align: top;\n",
              "    }\n",
              "\n",
              "    .dataframe thead th {\n",
              "        text-align: right;\n",
              "    }\n",
              "</style>\n",
              "<table border=\"1\" class=\"dataframe\">\n",
              "  <thead>\n",
              "    <tr style=\"text-align: right;\">\n",
              "      <th></th>\n",
              "      <th>PassengerId</th>\n",
              "      <th>Pclass</th>\n",
              "      <th>Age</th>\n",
              "      <th>SibSp</th>\n",
              "      <th>Parch</th>\n",
              "      <th>Fare</th>\n",
              "      <th>Survived</th>\n",
              "    </tr>\n",
              "  </thead>\n",
              "  <tbody>\n",
              "    <tr>\n",
              "      <th>count</th>\n",
              "      <td>714.000000</td>\n",
              "      <td>714.000000</td>\n",
              "      <td>714.000000</td>\n",
              "      <td>714.000000</td>\n",
              "      <td>714.000000</td>\n",
              "      <td>714.000000</td>\n",
              "      <td>714.000000</td>\n",
              "    </tr>\n",
              "    <tr>\n",
              "      <th>mean</th>\n",
              "      <td>448.582633</td>\n",
              "      <td>2.236695</td>\n",
              "      <td>29.679272</td>\n",
              "      <td>0.512605</td>\n",
              "      <td>0.431373</td>\n",
              "      <td>34.694514</td>\n",
              "      <td>0.406162</td>\n",
              "    </tr>\n",
              "    <tr>\n",
              "      <th>std</th>\n",
              "      <td>259.119524</td>\n",
              "      <td>0.838250</td>\n",
              "      <td>14.536483</td>\n",
              "      <td>0.929783</td>\n",
              "      <td>0.853289</td>\n",
              "      <td>52.918930</td>\n",
              "      <td>0.491460</td>\n",
              "    </tr>\n",
              "    <tr>\n",
              "      <th>min</th>\n",
              "      <td>1.000000</td>\n",
              "      <td>1.000000</td>\n",
              "      <td>0.000000</td>\n",
              "      <td>0.000000</td>\n",
              "      <td>0.000000</td>\n",
              "      <td>0.000000</td>\n",
              "      <td>0.000000</td>\n",
              "    </tr>\n",
              "    <tr>\n",
              "      <th>25%</th>\n",
              "      <td>222.250000</td>\n",
              "      <td>1.000000</td>\n",
              "      <td>20.000000</td>\n",
              "      <td>0.000000</td>\n",
              "      <td>0.000000</td>\n",
              "      <td>8.050000</td>\n",
              "      <td>0.000000</td>\n",
              "    </tr>\n",
              "    <tr>\n",
              "      <th>50%</th>\n",
              "      <td>445.000000</td>\n",
              "      <td>2.000000</td>\n",
              "      <td>28.000000</td>\n",
              "      <td>0.000000</td>\n",
              "      <td>0.000000</td>\n",
              "      <td>15.741700</td>\n",
              "      <td>0.000000</td>\n",
              "    </tr>\n",
              "    <tr>\n",
              "      <th>75%</th>\n",
              "      <td>677.750000</td>\n",
              "      <td>3.000000</td>\n",
              "      <td>38.000000</td>\n",
              "      <td>1.000000</td>\n",
              "      <td>1.000000</td>\n",
              "      <td>33.375000</td>\n",
              "      <td>1.000000</td>\n",
              "    </tr>\n",
              "    <tr>\n",
              "      <th>max</th>\n",
              "      <td>891.000000</td>\n",
              "      <td>3.000000</td>\n",
              "      <td>80.000000</td>\n",
              "      <td>5.000000</td>\n",
              "      <td>6.000000</td>\n",
              "      <td>512.329200</td>\n",
              "      <td>1.000000</td>\n",
              "    </tr>\n",
              "  </tbody>\n",
              "</table>\n",
              "</div>"
            ],
            "text/plain": [
              "       PassengerId      Pclass         Age       SibSp       Parch  \\\n",
              "count   714.000000  714.000000  714.000000  714.000000  714.000000   \n",
              "mean    448.582633    2.236695   29.679272    0.512605    0.431373   \n",
              "std     259.119524    0.838250   14.536483    0.929783    0.853289   \n",
              "min       1.000000    1.000000    0.000000    0.000000    0.000000   \n",
              "25%     222.250000    1.000000   20.000000    0.000000    0.000000   \n",
              "50%     445.000000    2.000000   28.000000    0.000000    0.000000   \n",
              "75%     677.750000    3.000000   38.000000    1.000000    1.000000   \n",
              "max     891.000000    3.000000   80.000000    5.000000    6.000000   \n",
              "\n",
              "             Fare    Survived  \n",
              "count  714.000000  714.000000  \n",
              "mean    34.694514    0.406162  \n",
              "std     52.918930    0.491460  \n",
              "min      0.000000    0.000000  \n",
              "25%      8.050000    0.000000  \n",
              "50%     15.741700    0.000000  \n",
              "75%     33.375000    1.000000  \n",
              "max    512.329200    1.000000  "
            ]
          },
          "metadata": {}
        }
      ],
      "id": "9dbc9c94"
    },
    {
      "cell_type": "markdown",
      "source": "#### Observations:\n* There seems to be have no outliers and invalid values in the data.",
      "metadata": {
        "papermill": {
          "duration": 0.056469,
          "end_time": "2023-03-17T15:33:08.299588",
          "exception": false,
          "start_time": "2023-03-17T15:33:08.243119",
          "status": "completed"
        },
        "tags": []
      },
      "id": "6aa550e5"
    },
    {
      "cell_type": "markdown",
      "source": "# Step 2: Data Visualization",
      "metadata": {
        "papermill": {
          "duration": 0.052909,
          "end_time": "2023-03-17T15:33:08.410088",
          "exception": false,
          "start_time": "2023-03-17T15:33:08.357179",
          "status": "completed"
        },
        "tags": []
      },
      "id": "65ac89f9"
    },
    {
      "cell_type": "code",
      "source": "# Data obersvation\ndf.head()",
      "metadata": {
        "execution": {
          "iopub.execute_input": "2023-03-17T15:33:08.530208Z",
          "iopub.status.busy": "2023-03-17T15:33:08.529289Z",
          "iopub.status.idle": "2023-03-17T15:33:08.532889Z",
          "shell.execute_reply": "2023-03-17T15:33:08.533582Z",
          "shell.execute_reply.started": "2023-03-17T15:17:17.579276Z"
        },
        "papermill": {
          "duration": 0.071118,
          "end_time": "2023-03-17T15:33:08.533808",
          "exception": false,
          "start_time": "2023-03-17T15:33:08.462690",
          "status": "completed"
        },
        "tags": []
      },
      "execution_count": 12,
      "outputs": [
        {
          "execution_count": 12,
          "output_type": "execute_result",
          "data": {
            "text/html": [
              "<div>\n",
              "<style scoped>\n",
              "    .dataframe tbody tr th:only-of-type {\n",
              "        vertical-align: middle;\n",
              "    }\n",
              "\n",
              "    .dataframe tbody tr th {\n",
              "        vertical-align: top;\n",
              "    }\n",
              "\n",
              "    .dataframe thead th {\n",
              "        text-align: right;\n",
              "    }\n",
              "</style>\n",
              "<table border=\"1\" class=\"dataframe\">\n",
              "  <thead>\n",
              "    <tr style=\"text-align: right;\">\n",
              "      <th></th>\n",
              "      <th>PassengerId</th>\n",
              "      <th>Pclass</th>\n",
              "      <th>Name</th>\n",
              "      <th>Sex</th>\n",
              "      <th>Age</th>\n",
              "      <th>SibSp</th>\n",
              "      <th>Parch</th>\n",
              "      <th>Ticket</th>\n",
              "      <th>Fare</th>\n",
              "      <th>Cabin</th>\n",
              "      <th>Embarked</th>\n",
              "      <th>Survived</th>\n",
              "    </tr>\n",
              "  </thead>\n",
              "  <tbody>\n",
              "    <tr>\n",
              "      <th>0</th>\n",
              "      <td>1</td>\n",
              "      <td>3</td>\n",
              "      <td>Braund, Mr. Owen Harris</td>\n",
              "      <td>male</td>\n",
              "      <td>22</td>\n",
              "      <td>1</td>\n",
              "      <td>0</td>\n",
              "      <td>A/5 21171</td>\n",
              "      <td>7.2500</td>\n",
              "      <td>B96 B98</td>\n",
              "      <td>S</td>\n",
              "      <td>0</td>\n",
              "    </tr>\n",
              "    <tr>\n",
              "      <th>1</th>\n",
              "      <td>2</td>\n",
              "      <td>1</td>\n",
              "      <td>Cumings, Mrs. John Bradley (Florence Briggs Th...</td>\n",
              "      <td>female</td>\n",
              "      <td>38</td>\n",
              "      <td>1</td>\n",
              "      <td>0</td>\n",
              "      <td>PC 17599</td>\n",
              "      <td>71.2833</td>\n",
              "      <td>C85</td>\n",
              "      <td>C</td>\n",
              "      <td>1</td>\n",
              "    </tr>\n",
              "    <tr>\n",
              "      <th>2</th>\n",
              "      <td>3</td>\n",
              "      <td>3</td>\n",
              "      <td>Heikkinen, Miss. Laina</td>\n",
              "      <td>female</td>\n",
              "      <td>26</td>\n",
              "      <td>0</td>\n",
              "      <td>0</td>\n",
              "      <td>STON/O2. 3101282</td>\n",
              "      <td>7.9250</td>\n",
              "      <td>B96 B98</td>\n",
              "      <td>S</td>\n",
              "      <td>1</td>\n",
              "    </tr>\n",
              "    <tr>\n",
              "      <th>3</th>\n",
              "      <td>4</td>\n",
              "      <td>1</td>\n",
              "      <td>Futrelle, Mrs. Jacques Heath (Lily May Peel)</td>\n",
              "      <td>female</td>\n",
              "      <td>35</td>\n",
              "      <td>1</td>\n",
              "      <td>0</td>\n",
              "      <td>113803</td>\n",
              "      <td>53.1000</td>\n",
              "      <td>C123</td>\n",
              "      <td>S</td>\n",
              "      <td>1</td>\n",
              "    </tr>\n",
              "    <tr>\n",
              "      <th>4</th>\n",
              "      <td>5</td>\n",
              "      <td>3</td>\n",
              "      <td>Allen, Mr. William Henry</td>\n",
              "      <td>male</td>\n",
              "      <td>35</td>\n",
              "      <td>0</td>\n",
              "      <td>0</td>\n",
              "      <td>373450</td>\n",
              "      <td>8.0500</td>\n",
              "      <td>B96 B98</td>\n",
              "      <td>S</td>\n",
              "      <td>0</td>\n",
              "    </tr>\n",
              "  </tbody>\n",
              "</table>\n",
              "</div>"
            ],
            "text/plain": [
              "   PassengerId  Pclass                                               Name  \\\n",
              "0            1       3                            Braund, Mr. Owen Harris   \n",
              "1            2       1  Cumings, Mrs. John Bradley (Florence Briggs Th...   \n",
              "2            3       3                             Heikkinen, Miss. Laina   \n",
              "3            4       1       Futrelle, Mrs. Jacques Heath (Lily May Peel)   \n",
              "4            5       3                           Allen, Mr. William Henry   \n",
              "\n",
              "      Sex  Age  SibSp  Parch            Ticket     Fare    Cabin Embarked  \\\n",
              "0    male   22      1      0         A/5 21171   7.2500  B96 B98        S   \n",
              "1  female   38      1      0          PC 17599  71.2833      C85        C   \n",
              "2  female   26      0      0  STON/O2. 3101282   7.9250  B96 B98        S   \n",
              "3  female   35      1      0            113803  53.1000     C123        S   \n",
              "4    male   35      0      0            373450   8.0500  B96 B98        S   \n",
              "\n",
              "   Survived  \n",
              "0         0  \n",
              "1         1  \n",
              "2         1  \n",
              "3         1  \n",
              "4         0  "
            ]
          },
          "metadata": {}
        }
      ],
      "id": "2cecca27"
    },
    {
      "cell_type": "code",
      "source": "# data summary\ndf.info()",
      "metadata": {
        "execution": {
          "iopub.execute_input": "2023-03-17T15:33:08.648696Z",
          "iopub.status.busy": "2023-03-17T15:33:08.648018Z",
          "iopub.status.idle": "2023-03-17T15:33:08.662656Z",
          "shell.execute_reply": "2023-03-17T15:33:08.663212Z",
          "shell.execute_reply.started": "2023-03-17T15:17:17.596772Z"
        },
        "papermill": {
          "duration": 0.07175,
          "end_time": "2023-03-17T15:33:08.663406",
          "exception": false,
          "start_time": "2023-03-17T15:33:08.591656",
          "status": "completed"
        },
        "tags": []
      },
      "execution_count": 13,
      "outputs": [
        {
          "name": "stdout",
          "output_type": "stream",
          "text": "<class 'pandas.core.frame.DataFrame'>\n\nInt64Index: 714 entries, 0 to 890\n\nData columns (total 12 columns):\n\n #   Column       Non-Null Count  Dtype  \n\n---  ------       --------------  -----  \n\n 0   PassengerId  714 non-null    int64  \n\n 1   Pclass       714 non-null    int64  \n\n 2   Name         714 non-null    object \n\n 3   Sex          714 non-null    object \n\n 4   Age          714 non-null    int64  \n\n 5   SibSp        714 non-null    int64  \n\n 6   Parch        714 non-null    int64  \n\n 7   Ticket       714 non-null    object \n\n 8   Fare         714 non-null    float64\n\n 9   Cabin        714 non-null    object \n\n 10  Embarked     714 non-null    object \n\n 11  Survived     714 non-null    int64  \n\ndtypes: float64(1), int64(6), object(5)\n\nmemory usage: 72.5+ KB\n"
        }
      ],
      "id": "483778aa"
    },
    {
      "cell_type": "markdown",
      "source": "## 2.1 Bivariate Analysis",
      "metadata": {
        "papermill": {
          "duration": 0.053701,
          "end_time": "2023-03-17T15:33:08.770853",
          "exception": false,
          "start_time": "2023-03-17T15:33:08.717152",
          "status": "completed"
        },
        "tags": []
      },
      "id": "0319be60"
    },
    {
      "cell_type": "markdown",
      "source": "### 2.1.1 Pclass Vs Survived",
      "metadata": {
        "papermill": {
          "duration": 0.052642,
          "end_time": "2023-03-17T15:33:08.877016",
          "exception": false,
          "start_time": "2023-03-17T15:33:08.824374",
          "status": "completed"
        },
        "tags": []
      },
      "id": "bc32769e"
    },
    {
      "cell_type": "code",
      "source": "# Visualizing 'Survived' Vs 'Pclass'\nsns.countplot(x='Pclass', data=df, hue='Survived')\nplt.title('Pclass Vs Survived', fontsize=20)\nplt.xlabel('Pclass', fontsize=15)\nplt.ylabel('Survival Count', fontsize=15)\nplt.show()",
      "metadata": {
        "execution": {
          "iopub.execute_input": "2023-03-17T15:33:08.990422Z",
          "iopub.status.busy": "2023-03-17T15:33:08.989753Z",
          "iopub.status.idle": "2023-03-17T15:33:09.246646Z",
          "shell.execute_reply": "2023-03-17T15:33:09.246068Z",
          "shell.execute_reply.started": "2023-03-17T15:17:17.615719Z"
        },
        "papermill": {
          "duration": 0.313737,
          "end_time": "2023-03-17T15:33:09.246808",
          "exception": false,
          "start_time": "2023-03-17T15:33:08.933071",
          "status": "completed"
        },
        "tags": []
      },
      "execution_count": 14,
      "outputs": [
        {
          "output_type": "display_data",
          "data": {
            "image/png": "[encoded data removed]",
            "text/plain": [
              "<Figure size 432x288 with 1 Axes>"
            ]
          },
          "metadata": {
            "needs_background": "light"
          }
        }
      ],
      "id": "748ea660"
    },
    {
      "cell_type": "markdown",
      "source": "#### Observations:\n1. We can clear see and understand that passengers of with `3rd class ticket had very low chance of surviving`.\n2. Where, passengers of `1st class ticket had higher chances of surviving`.\n3. Passenger with `2nd class ticket had mix match chances` of surviving and dying. ",
      "metadata": {
        "papermill": {
          "duration": 0.053105,
          "end_time": "2023-03-17T15:33:09.354478",
          "exception": false,
          "start_time": "2023-03-17T15:33:09.301373",
          "status": "completed"
        },
        "tags": []
      },
      "id": "c00b313c"
    },
    {
      "cell_type": "markdown",
      "source": "### 2.1.2 Gender Vs Survived / Pclass",
      "metadata": {
        "papermill": {
          "duration": 0.053207,
          "end_time": "2023-03-17T15:33:09.461190",
          "exception": false,
          "start_time": "2023-03-17T15:33:09.407983",
          "status": "completed"
        },
        "tags": []
      },
      "id": "bb68704c"
    },
    {
      "cell_type": "code",
      "source": "# Visualizing 'Survived' Vs 'Sex'\nsns.countplot(x='Sex', data=df, hue='Survived')\nplt.title('Gender Vs Survived', fontsize=20)\nplt.xlabel('Sex', fontsize=15)\nplt.ylabel('Survival Count', fontsize=15)\nplt.show()\n\n# Visualizing 'Pclass' Vs 'Gender'\nsns.countplot(x='Pclass', data=df, hue='Sex', palette='husl')\nplt.title('Gender Vs Pclass', fontsize=20)\nplt.xlabel('Pclass', fontsize=15)\nplt.ylabel('Gender Count', fontsize=15)\nplt.show()",
      "metadata": {
        "execution": {
          "iopub.execute_input": "2023-03-17T15:33:09.576976Z",
          "iopub.status.busy": "2023-03-17T15:33:09.575965Z",
          "iopub.status.idle": "2023-03-17T15:33:10.016852Z",
          "shell.execute_reply": "2023-03-17T15:33:10.017332Z",
          "shell.execute_reply.started": "2023-03-17T15:17:17.901437Z"
        },
        "papermill": {
          "duration": 0.503087,
          "end_time": "2023-03-17T15:33:10.017551",
          "exception": false,
          "start_time": "2023-03-17T15:33:09.514464",
          "status": "completed"
        },
        "tags": []
      },
      "execution_count": 15,
      "outputs": [
        {
          "output_type": "display_data",
          "data": {
            "image/png": "[encoded data removed]",
            "text/plain": [
              "<Figure size 432x288 with 1 Axes>"
            ]
          },
          "metadata": {
            "needs_background": "light"
          }
        },
        {
          "output_type": "display_data",
          "data": {
            "image/png": "[encoded data removed]",
            "text/plain": [
              "<Figure size 432x288 with 1 Axes>"
            ]
          },
          "metadata": {
            "needs_background": "light"
          }
        }
      ],
      "id": "814d8498"
    },
    {
      "cell_type": "markdown",
      "source": "#### Observations:\n1. This visualization shows that more number of females were able to survive the accident.<br>\n`Note: The reason behind this could be as number of life boats were less and therefore females were considered above males`\n2. As we saw in `Pclass Vs Survived` visualization that passengers in 3rd class had lowest survival rate and above visualization of `Pclass Vs Sex` concludes that there were higher number of male passengers in 3rd class.<br>\n`Hence there were more deaths than survival among among males in 'Gender Vs Survived' visualization` ",
      "metadata": {
        "papermill": {
          "duration": 0.054555,
          "end_time": "2023-03-17T15:33:10.126988",
          "exception": false,
          "start_time": "2023-03-17T15:33:10.072433",
          "status": "completed"
        },
        "tags": []
      },
      "id": "7fd21d75"
    },
    {
      "cell_type": "markdown",
      "source": "### 2.1.3.1 Age Vs Survived",
      "metadata": {
        "papermill": {
          "duration": 0.054596,
          "end_time": "2023-03-17T15:33:10.236719",
          "exception": false,
          "start_time": "2023-03-17T15:33:10.182123",
          "status": "completed"
        },
        "tags": []
      },
      "id": "ec2c3654"
    },
    {
      "cell_type": "code",
      "source": "# Visualizing 'Survived' Vs 'Age'\nsns.countplot(x='Age', data=df, hue='Survived')\nplt.title('Age Vs Survived', fontsize=20)\nplt.xlabel('Age', fontsize=15)\nplt.ylabel('Survival Count', fontsize=15)\nplt.legend(bbox_to_anchor=(1.01, 1),borderaxespad=0)\nplt.show()",
      "metadata": {
        "execution": {
          "iopub.execute_input": "2023-03-17T15:33:10.355836Z",
          "iopub.status.busy": "2023-03-17T15:33:10.354842Z",
          "iopub.status.idle": "2023-03-17T15:33:11.584358Z",
          "shell.execute_reply": "2023-03-17T15:33:11.584925Z",
          "shell.execute_reply.started": "2023-03-17T15:17:18.352908Z"
        },
        "papermill": {
          "duration": 1.293089,
          "end_time": "2023-03-17T15:33:11.585115",
          "exception": false,
          "start_time": "2023-03-17T15:33:10.292026",
          "status": "completed"
        },
        "tags": []
      },
      "execution_count": 16,
      "outputs": [
        {
          "output_type": "display_data",
          "data": {
            "image/png": "[encoded data removed]",
            "text/plain": [
              "<Figure size 432x288 with 1 Axes>"
            ]
          },
          "metadata": {
            "needs_background": "light"
          }
        }
      ],
      "id": "2bf5ca66"
    },
    {
      "cell_type": "markdown",
      "source": "#### To have a proper visualization of `Age` column we can create range of ages say 0-20, 21-40, 41-60, 61-80 and label them as 0,1,2,3.",
      "metadata": {
        "papermill": {
          "duration": 0.056376,
          "end_time": "2023-03-17T15:33:11.697486",
          "exception": false,
          "start_time": "2023-03-17T15:33:11.641110",
          "status": "completed"
        },
        "tags": []
      },
      "id": "5cc47601"
    },
    {
      "cell_type": "code",
      "source": "# Create ordinal category for Age using binning method cut\ncutLabels= [0,1,2,3]\ncutBins = [0, 21, 41, 61, 80]\ndf['Age_Bins'] = pd.cut(df['Age'], bins=cutBins, labels=cutLabels)\n\ndf.Age_Bins.value_counts()",
      "metadata": {
        "execution": {
          "iopub.execute_input": "2023-03-17T15:33:11.815507Z",
          "iopub.status.busy": "2023-03-17T15:33:11.814521Z",
          "iopub.status.idle": "2023-03-17T15:33:11.822359Z",
          "shell.execute_reply": "2023-03-17T15:33:11.822890Z",
          "shell.execute_reply.started": "2023-03-17T15:17:19.620165Z"
        },
        "papermill": {
          "duration": 0.069446,
          "end_time": "2023-03-17T15:33:11.823066",
          "exception": false,
          "start_time": "2023-03-17T15:33:11.753620",
          "status": "completed"
        },
        "tags": []
      },
      "execution_count": 17,
      "outputs": [
        {
          "execution_count": 17,
          "output_type": "execute_result",
          "data": {
            "text/plain": [
              "1    368\n",
              "0    197\n",
              "2    123\n",
              "3     19\n",
              "Name: Age_Bins, dtype: int64"
            ]
          },
          "metadata": {}
        }
      ],
      "id": "87fb4747"
    },
    {
      "cell_type": "markdown",
      "source": "#### Now we can remove `Age` Column and use `Age_Bin` for visualization and analysis ",
      "metadata": {
        "papermill": {
          "duration": 0.056015,
          "end_time": "2023-03-17T15:33:11.936099",
          "exception": false,
          "start_time": "2023-03-17T15:33:11.880084",
          "status": "completed"
        },
        "tags": []
      },
      "id": "3c9d3add"
    },
    {
      "cell_type": "code",
      "source": "# Drop 'Age' column\ndf.drop(['Age'], axis=1, inplace=True)\n\n# moving target column to the last\ndf = df.reindex(columns = [col for col in df.columns if col != 'Survived'] + ['Survived'])\n\ndf.head()",
      "metadata": {
        "execution": {
          "iopub.execute_input": "2023-03-17T15:33:12.054232Z",
          "iopub.status.busy": "2023-03-17T15:33:12.053577Z",
          "iopub.status.idle": "2023-03-17T15:33:12.070860Z",
          "shell.execute_reply": "2023-03-17T15:33:12.071367Z",
          "shell.execute_reply.started": "2023-03-17T15:17:19.634134Z"
        },
        "papermill": {
          "duration": 0.077769,
          "end_time": "2023-03-17T15:33:12.071565",
          "exception": false,
          "start_time": "2023-03-17T15:33:11.993796",
          "status": "completed"
        },
        "tags": []
      },
      "execution_count": 18,
      "outputs": [
        {
          "execution_count": 18,
          "output_type": "execute_result",
          "data": {
            "text/html": [
              "<div>\n",
              "<style scoped>\n",
              "    .dataframe tbody tr th:only-of-type {\n",
              "        vertical-align: middle;\n",
              "    }\n",
              "\n",
              "    .dataframe tbody tr th {\n",
              "        vertical-align: top;\n",
              "    }\n",
              "\n",
              "    .dataframe thead th {\n",
              "        text-align: right;\n",
              "    }\n",
              "</style>\n",
              "<table border=\"1\" class=\"dataframe\">\n",
              "  <thead>\n",
              "    <tr style=\"text-align: right;\">\n",
              "      <th></th>\n",
              "      <th>PassengerId</th>\n",
              "      <th>Pclass</th>\n",
              "      <th>Name</th>\n",
              "      <th>Sex</th>\n",
              "      <th>SibSp</th>\n",
              "      <th>Parch</th>\n",
              "      <th>Ticket</th>\n",
              "      <th>Fare</th>\n",
              "      <th>Cabin</th>\n",
              "      <th>Embarked</th>\n",
              "      <th>Age_Bins</th>\n",
              "      <th>Survived</th>\n",
              "    </tr>\n",
              "  </thead>\n",
              "  <tbody>\n",
              "    <tr>\n",
              "      <th>0</th>\n",
              "      <td>1</td>\n",
              "      <td>3</td>\n",
              "      <td>Braund, Mr. Owen Harris</td>\n",
              "      <td>male</td>\n",
              "      <td>1</td>\n",
              "      <td>0</td>\n",
              "      <td>A/5 21171</td>\n",
              "      <td>7.2500</td>\n",
              "      <td>B96 B98</td>\n",
              "      <td>S</td>\n",
              "      <td>1</td>\n",
              "      <td>0</td>\n",
              "    </tr>\n",
              "    <tr>\n",
              "      <th>1</th>\n",
              "      <td>2</td>\n",
              "      <td>1</td>\n",
              "      <td>Cumings, Mrs. John Bradley (Florence Briggs Th...</td>\n",
              "      <td>female</td>\n",
              "      <td>1</td>\n",
              "      <td>0</td>\n",
              "      <td>PC 17599</td>\n",
              "      <td>71.2833</td>\n",
              "      <td>C85</td>\n",
              "      <td>C</td>\n",
              "      <td>1</td>\n",
              "      <td>1</td>\n",
              "    </tr>\n",
              "    <tr>\n",
              "      <th>2</th>\n",
              "      <td>3</td>\n",
              "      <td>3</td>\n",
              "      <td>Heikkinen, Miss. Laina</td>\n",
              "      <td>female</td>\n",
              "      <td>0</td>\n",
              "      <td>0</td>\n",
              "      <td>STON/O2. 3101282</td>\n",
              "      <td>7.9250</td>\n",
              "      <td>B96 B98</td>\n",
              "      <td>S</td>\n",
              "      <td>1</td>\n",
              "      <td>1</td>\n",
              "    </tr>\n",
              "    <tr>\n",
              "      <th>3</th>\n",
              "      <td>4</td>\n",
              "      <td>1</td>\n",
              "      <td>Futrelle, Mrs. Jacques Heath (Lily May Peel)</td>\n",
              "      <td>female</td>\n",
              "      <td>1</td>\n",
              "      <td>0</td>\n",
              "      <td>113803</td>\n",
              "      <td>53.1000</td>\n",
              "      <td>C123</td>\n",
              "      <td>S</td>\n",
              "      <td>1</td>\n",
              "      <td>1</td>\n",
              "    </tr>\n",
              "    <tr>\n",
              "      <th>4</th>\n",
              "      <td>5</td>\n",
              "      <td>3</td>\n",
              "      <td>Allen, Mr. William Henry</td>\n",
              "      <td>male</td>\n",
              "      <td>0</td>\n",
              "      <td>0</td>\n",
              "      <td>373450</td>\n",
              "      <td>8.0500</td>\n",
              "      <td>B96 B98</td>\n",
              "      <td>S</td>\n",
              "      <td>1</td>\n",
              "      <td>0</td>\n",
              "    </tr>\n",
              "  </tbody>\n",
              "</table>\n",
              "</div>"
            ],
            "text/plain": [
              "   PassengerId  Pclass                                               Name  \\\n",
              "0            1       3                            Braund, Mr. Owen Harris   \n",
              "1            2       1  Cumings, Mrs. John Bradley (Florence Briggs Th...   \n",
              "2            3       3                             Heikkinen, Miss. Laina   \n",
              "3            4       1       Futrelle, Mrs. Jacques Heath (Lily May Peel)   \n",
              "4            5       3                           Allen, Mr. William Henry   \n",
              "\n",
              "      Sex  SibSp  Parch            Ticket     Fare    Cabin Embarked Age_Bins  \\\n",
              "0    male      1      0         A/5 21171   7.2500  B96 B98        S        1   \n",
              "1  female      1      0          PC 17599  71.2833      C85        C        1   \n",
              "2  female      0      0  STON/O2. 3101282   7.9250  B96 B98        S        1   \n",
              "3  female      1      0            113803  53.1000     C123        S        1   \n",
              "4    male      0      0            373450   8.0500  B96 B98        S        1   \n",
              "\n",
              "   Survived  \n",
              "0         0  \n",
              "1         1  \n",
              "2         1  \n",
              "3         1  \n",
              "4         0  "
            ]
          },
          "metadata": {}
        }
      ],
      "id": "500f2654"
    },
    {
      "cell_type": "markdown",
      "source": "#### We will need to change data type of new columns `Age_Bins` from **category to int**.",
      "metadata": {
        "papermill": {
          "duration": 0.057044,
          "end_time": "2023-03-17T15:33:12.188671",
          "exception": false,
          "start_time": "2023-03-17T15:33:12.131627",
          "status": "completed"
        },
        "tags": []
      },
      "id": "661ff2b8"
    },
    {
      "cell_type": "code",
      "source": "# change data type of Age_Bins using LabelEncoder\nnum = LabelEncoder()\ndf['Age_Bins'] = num.fit_transform(df['Age_Bins'].astype('str'))\n\ndf.info()",
      "metadata": {
        "execution": {
          "iopub.execute_input": "2023-03-17T15:33:12.321318Z",
          "iopub.status.busy": "2023-03-17T15:33:12.320275Z",
          "iopub.status.idle": "2023-03-17T15:33:12.323806Z",
          "shell.execute_reply": "2023-03-17T15:33:12.324505Z",
          "shell.execute_reply.started": "2023-03-17T15:17:19.655501Z"
        },
        "papermill": {
          "duration": 0.077085,
          "end_time": "2023-03-17T15:33:12.324756",
          "exception": false,
          "start_time": "2023-03-17T15:33:12.247671",
          "status": "completed"
        },
        "tags": []
      },
      "execution_count": 19,
      "outputs": [
        {
          "name": "stdout",
          "output_type": "stream",
          "text": "<class 'pandas.core.frame.DataFrame'>\n\nInt64Index: 714 entries, 0 to 890\n\nData columns (total 12 columns):\n\n #   Column       Non-Null Count  Dtype  \n\n---  ------       --------------  -----  \n\n 0   PassengerId  714 non-null    int64  \n\n 1   Pclass       714 non-null    int64  \n\n 2   Name         714 non-null    object \n\n 3   Sex          714 non-null    object \n\n 4   SibSp        714 non-null    int64  \n\n 5   Parch        714 non-null    int64  \n\n 6   Ticket       714 non-null    object \n\n 7   Fare         714 non-null    float64\n\n 8   Cabin        714 non-null    object \n\n 9   Embarked     714 non-null    object \n\n 10  Age_Bins     714 non-null    int64  \n\n 11  Survived     714 non-null    int64  \n\ndtypes: float64(1), int64(6), object(5)\n\nmemory usage: 88.7+ KB\n"
        }
      ],
      "id": "cd591c18"
    },
    {
      "cell_type": "markdown",
      "source": "### 2.1.3.2 Age_Bins Vs Survived / Pclass / Gender",
      "metadata": {
        "papermill": {
          "duration": 0.056366,
          "end_time": "2023-03-17T15:33:12.439679",
          "exception": false,
          "start_time": "2023-03-17T15:33:12.383313",
          "status": "completed"
        },
        "tags": []
      },
      "id": "e8ece0cb"
    },
    {
      "cell_type": "code",
      "source": "# Visualizing 'Survived' Vs 'Age_Bins'\nsns.countplot(x='Age_Bins', data=df, hue='Survived')\nplt.title('Age_Bins Vs Survived', fontsize=20)\nplt.xlabel('Age_Bins', fontsize=15)\nplt.ylabel('Survival Count', fontsize=15)\nplt.show()\n\n# Visualizing 'Pclass' Vs 'Age_Bins'\nsns.countplot(x='Age_Bins', data=df, hue='Pclass', palette='deep')\nplt.title('Age_Bins Vs Pclass', fontsize=20)\nplt.xlabel('Age_Bins', fontsize=15)\nplt.ylabel('Pclass', fontsize=15)\nplt.show()\n\n# Visualizing 'Gender' Vs 'Age_Bins'\nsns.countplot(x='Age_Bins', data=df, hue='Sex', palette='colorblind')\nplt.title('Age_Bins Vs Gender', fontsize=20)\nplt.xlabel('Age_Bins', fontsize=15)\nplt.ylabel('Gender', fontsize=15)\nplt.show()",
      "metadata": {
        "execution": {
          "iopub.execute_input": "2023-03-17T15:33:12.562931Z",
          "iopub.status.busy": "2023-03-17T15:33:12.561964Z",
          "iopub.status.idle": "2023-03-17T15:33:13.280069Z",
          "shell.execute_reply": "2023-03-17T15:33:13.279516Z",
          "shell.execute_reply.started": "2023-03-17T15:17:19.674450Z"
        },
        "papermill": {
          "duration": 0.783928,
          "end_time": "2023-03-17T15:33:13.280213",
          "exception": false,
          "start_time": "2023-03-17T15:33:12.496285",
          "status": "completed"
        },
        "tags": []
      },
      "execution_count": 20,
      "outputs": [
        {
          "output_type": "display_data",
          "data": {
            "image/png": "[encoded data removed]",
            "text/plain": [
              "<Figure size 432x288 with 1 Axes>"
            ]
          },
          "metadata": {
            "needs_background": "light"
          }
        },
        {
          "output_type": "display_data",
          "data": {
            "image/png": "[encoded data removed]",
            "text/plain": [
              "<Figure size 432x288 with 1 Axes>"
            ]
          },
          "metadata": {
            "needs_background": "light"
          }
        },
        {
          "output_type": "display_data",
          "data": {
            "image/png": "[encoded data removed]",
            "text/plain": [
              "<Figure size 432x288 with 1 Axes>"
            ]
          },
          "metadata": {
            "needs_background": "light"
          }
        }
      ],
      "id": "6dfcad4a"
    },
    {
      "cell_type": "markdown",
      "source": "#### Observations:\n`0-20 = 0, 21-40 = 1, 41-60 = 2, 61-80 = 3`\n1. Passengers between age group of `21 to 40 had highest death counts`.\n2. While, passenger between age group of `61-80 had lowest death counts`.\n3. In above visualizations, last two visualizations prove that the reason behind high number of deaths will be counted for passengers of age group betweem 21 to 40 because<br>\n  - Most of the passengers in that age group are from 3rd class and this class seems to have higher number of deaths as per visualization. *{Refer `Age_Bins Vs Gender` and `Pclass Vs Survived` visualization respectively}*\n  - Most of the passengers are male in this age group and male will have higher number of deaths *{Refer Sex Vs Survived visualization}*",
      "metadata": {
        "papermill": {
          "duration": 0.059202,
          "end_time": "2023-03-17T15:33:13.399057",
          "exception": false,
          "start_time": "2023-03-17T15:33:13.339855",
          "status": "completed"
        },
        "tags": []
      },
      "id": "79bd535a"
    },
    {
      "cell_type": "markdown",
      "source": "### 2.1.4 SibSp Vs Survived",
      "metadata": {
        "papermill": {
          "duration": 0.058954,
          "end_time": "2023-03-17T15:33:13.517317",
          "exception": false,
          "start_time": "2023-03-17T15:33:13.458363",
          "status": "completed"
        },
        "tags": []
      },
      "id": "df68d2b2"
    },
    {
      "cell_type": "code",
      "source": "# Visualizing 'Survived' Vs 'SibSp'\nsns.countplot(x='SibSp', data=df, hue='Survived')\nplt.title('SibSp Vs Survived', fontsize=20)\nplt.xlabel('SibSp', fontsize=15)\nplt.ylabel('Survival Count', fontsize=15)\nplt.legend(bbox_to_anchor=(1.01, 1),borderaxespad=0)\nplt.show()",
      "metadata": {
        "execution": {
          "iopub.execute_input": "2023-03-17T15:33:13.642629Z",
          "iopub.status.busy": "2023-03-17T15:33:13.638429Z",
          "iopub.status.idle": "2023-03-17T15:33:13.895201Z",
          "shell.execute_reply": "2023-03-17T15:33:13.894518Z",
          "shell.execute_reply.started": "2023-03-17T15:17:20.414079Z"
        },
        "papermill": {
          "duration": 0.318592,
          "end_time": "2023-03-17T15:33:13.895355",
          "exception": false,
          "start_time": "2023-03-17T15:33:13.576763",
          "status": "completed"
        },
        "tags": []
      },
      "execution_count": 21,
      "outputs": [
        {
          "output_type": "display_data",
          "data": {
            "image/png": "[encoded data removed]",
            "text/plain": [
              "<Figure size 432x288 with 1 Axes>"
            ]
          },
          "metadata": {
            "needs_background": "light"
          }
        }
      ],
      "id": "db817d14"
    },
    {
      "cell_type": "markdown",
      "source": "#### Observations:\n1. Visualization shows that passengers with `0 or 2 or 3 or 4 or 5 siblings/spouses can have higher number of deaths(0) than survival (1)`.\n2. While passengers with with `1 sibling/spouse have less death counts and more survival count`.\n3. But passengers with `0 or 3 or 4 or 5 siblings/spouses are the ones with high death rates`.",
      "metadata": {
        "papermill": {
          "duration": 0.060131,
          "end_time": "2023-03-17T15:33:14.017428",
          "exception": false,
          "start_time": "2023-03-17T15:33:13.957297",
          "status": "completed"
        },
        "tags": []
      },
      "id": "ab083b8c"
    },
    {
      "cell_type": "markdown",
      "source": "### 2.1.5 Parch Vs Survived",
      "metadata": {
        "papermill": {
          "duration": 0.059702,
          "end_time": "2023-03-17T15:33:14.136999",
          "exception": false,
          "start_time": "2023-03-17T15:33:14.077297",
          "status": "completed"
        },
        "tags": []
      },
      "id": "2e7b2308"
    },
    {
      "cell_type": "code",
      "source": "# Visualizing 'Survived' Vs 'Parch'\nsns.countplot(x='Parch', data=df, hue='Survived')\nplt.title('Parch Vs Survived', fontsize=20)\nplt.xlabel('Parch', fontsize=15)\nplt.ylabel('Survival Count', fontsize=15)\nplt.legend(bbox_to_anchor=(1.01, 1),borderaxespad=0)\nplt.show()",
      "metadata": {
        "execution": {
          "iopub.execute_input": "2023-03-17T15:33:14.268964Z",
          "iopub.status.busy": "2023-03-17T15:33:14.264499Z",
          "iopub.status.idle": "2023-03-17T15:33:14.522118Z",
          "shell.execute_reply": "2023-03-17T15:33:14.522611Z",
          "shell.execute_reply.started": "2023-03-17T15:17:20.674166Z"
        },
        "papermill": {
          "duration": 0.324808,
          "end_time": "2023-03-17T15:33:14.522789",
          "exception": false,
          "start_time": "2023-03-17T15:33:14.197981",
          "status": "completed"
        },
        "tags": []
      },
      "execution_count": 22,
      "outputs": [
        {
          "output_type": "display_data",
          "data": {
            "image/png": "[encoded data removed]",
            "text/plain": [
              "<Figure size 432x288 with 1 Axes>"
            ]
          },
          "metadata": {
            "needs_background": "light"
          }
        }
      ],
      "id": "9032421f"
    },
    {
      "cell_type": "markdown",
      "source": "#### Observations:\n1. Passengers with `0 or 4 or 5 or 6 Parents / Childrens seems to have higher deaths (0) than survival (1)`.\n2. Passengers with `1 or 2 or 3 Parents/Childrens seems to have high surival chances than deaths`. ",
      "metadata": {
        "papermill": {
          "duration": 0.06002,
          "end_time": "2023-03-17T15:33:14.643395",
          "exception": false,
          "start_time": "2023-03-17T15:33:14.583375",
          "status": "completed"
        },
        "tags": []
      },
      "id": "e095d77e"
    },
    {
      "cell_type": "markdown",
      "source": "### 2.1.6 Embarked Vs Survived",
      "metadata": {
        "papermill": {
          "duration": 0.060056,
          "end_time": "2023-03-17T15:33:14.763918",
          "exception": false,
          "start_time": "2023-03-17T15:33:14.703862",
          "status": "completed"
        },
        "tags": []
      },
      "id": "318f4500"
    },
    {
      "cell_type": "code",
      "source": "# Visualizing 'Survived' Vs 'Embarked'\nsns.countplot(x='Embarked', data=df, hue='Survived')\nplt.title('Embarked Vs Survival', fontsize=20)\nplt.xlabel('Embarked', fontsize=15)\nplt.ylabel('Survival', fontsize=15)\nplt.show()\n\n# Visualizing 'Gender' Vs 'Embarked'\nsns.countplot(x='Embarked', data=df, hue='Sex', palette='dark')\nplt.title('Embarked Vs Gender', fontsize=20)\nplt.xlabel('Embarked', fontsize=15)\nplt.ylabel('Gender Count', fontsize=15)\nplt.show()\n\n# Visualizing 'Pclass' Vs 'Embarked'\nsns.countplot(x='Embarked', data=df, hue='Pclass', palette='bright')\nplt.title('Embarked Vs Pclass', fontsize=20)\nplt.xlabel('Embarked', fontsize=15)\nplt.ylabel('Pclass Count', fontsize=15)\nplt.show()",
      "metadata": {
        "execution": {
          "iopub.execute_input": "2023-03-17T15:33:14.889193Z",
          "iopub.status.busy": "2023-03-17T15:33:14.888135Z",
          "iopub.status.idle": "2023-03-17T15:33:15.586027Z",
          "shell.execute_reply": "2023-03-17T15:33:15.585433Z",
          "shell.execute_reply.started": "2023-03-17T15:17:20.945364Z"
        },
        "papermill": {
          "duration": 0.761674,
          "end_time": "2023-03-17T15:33:15.586190",
          "exception": false,
          "start_time": "2023-03-17T15:33:14.824516",
          "status": "completed"
        },
        "tags": []
      },
      "execution_count": 23,
      "outputs": [
        {
          "output_type": "display_data",
          "data": {
            "image/png": "[encoded data removed]",
            "text/plain": [
              "<Figure size 432x288 with 1 Axes>"
            ]
          },
          "metadata": {
            "needs_background": "light"
          }
        },
        {
          "output_type": "display_data",
          "data": {
            "image/png": "[encoded data removed]",
            "text/plain": [
              "<Figure size 432x288 with 1 Axes>"
            ]
          },
          "metadata": {
            "needs_background": "light"
          }
        },
        {
          "output_type": "display_data",
          "data": {
            "image/png": "[encoded data removed]",
            "text/plain": [
              "<Figure size 432x288 with 1 Axes>"
            ]
          },
          "metadata": {
            "needs_background": "light"
          }
        }
      ],
      "id": "7d29a17b"
    },
    {
      "cell_type": "markdown",
      "source": "#### Observations:\n1. Passengers embraked from Southampton and Queensland will have high death counts than survival.\n2. While passengers embarked from Cherbourgh will have high survival chances.\n3. Reason behind such difference could be seen in **Embarked Vs Gender** and **Embarked Vs Pclass** visualization that\n  - Firstly, the number of male count is high among passengers embarking from Southampton and slightly high in Queensland. \n  - Secondly, passengers embarked from these two places have most passengers travelling in 3rd class.\n  - We have seen that males have low survival chances and if they having 3rd class ticket than survival chances depletes drasctically.<br>\n`Note: Above two reasons justify the higher rate of deaths in passengers embarked from Southampon and Queensland`.",
      "metadata": {
        "papermill": {
          "duration": 0.06559,
          "end_time": "2023-03-17T15:33:15.715871",
          "exception": false,
          "start_time": "2023-03-17T15:33:15.650281",
          "status": "completed"
        },
        "tags": []
      },
      "id": "c1885518"
    },
    {
      "cell_type": "markdown",
      "source": "# Step 3: Data Preparation",
      "metadata": {
        "papermill": {
          "duration": 0.062713,
          "end_time": "2023-03-17T15:33:15.841702",
          "exception": false,
          "start_time": "2023-03-17T15:33:15.778989",
          "status": "completed"
        },
        "tags": []
      },
      "id": "dd0b972e"
    },
    {
      "cell_type": "markdown",
      "source": "## 3.1 Important Feature Selection",
      "metadata": {
        "papermill": {
          "duration": 0.062737,
          "end_time": "2023-03-17T15:33:15.967889",
          "exception": false,
          "start_time": "2023-03-17T15:33:15.905152",
          "status": "completed"
        },
        "tags": []
      },
      "id": "79dd30e5"
    },
    {
      "cell_type": "code",
      "source": "# reading data into X as unlabelled data and y as Target data only\nX = df.iloc[:,:-1]\n# drop string features\nX.drop(['Fare','Ticket','PassengerId','Cabin','Name'], axis=1, inplace=True)\n# Convert male = 0 and female = 0 in column Sex\nX['Sex'] = X['Sex'].map(dict(zip(['male','female'],[0,1])))\n# Convert C=0, Q=1 and S=2 in Embarked column\nX['Embarked'] = X['Embarked'].map(dict(zip(['C','Q','S'],[0,1,2])))\n\ny = df.iloc[:,-1]",
      "metadata": {
        "execution": {
          "iopub.execute_input": "2023-03-17T15:33:16.101847Z",
          "iopub.status.busy": "2023-03-17T15:33:16.101150Z",
          "iopub.status.idle": "2023-03-17T15:33:16.106428Z",
          "shell.execute_reply": "2023-03-17T15:33:16.106914Z",
          "shell.execute_reply.started": "2023-03-17T15:17:21.660376Z"
        },
        "papermill": {
          "duration": 0.076772,
          "end_time": "2023-03-17T15:33:16.107087",
          "exception": false,
          "start_time": "2023-03-17T15:33:16.030315",
          "status": "completed"
        },
        "tags": []
      },
      "execution_count": 24,
      "outputs": [],
      "id": "852ba1ce"
    },
    {
      "cell_type": "code",
      "source": "# importing \nfrom sklearn.feature_selection import SelectKBest, chi2\n\nbestFeatures = SelectKBest(score_func=chi2, k='all')\nfitFeatures = bestFeatures.fit(X,y)\nChi2Score = fitFeatures.scores_\n\n# printing chi2 score beside each features\nChi2 = pd.Series(Chi2Score,index = X.columns)\nChi2.sort_values(ascending = False , inplace = True)\nprint(Chi2)\n\nChi2.plot.bar()",
      "metadata": {
        "execution": {
          "iopub.execute_input": "2023-03-17T15:33:16.240944Z",
          "iopub.status.busy": "2023-03-17T15:33:16.240171Z",
          "iopub.status.idle": "2023-03-17T15:33:16.483975Z",
          "shell.execute_reply": "2023-03-17T15:33:16.484487Z",
          "shell.execute_reply.started": "2023-03-17T15:17:21.674338Z"
        },
        "papermill": {
          "duration": 0.314213,
          "end_time": "2023-03-17T15:33:16.484686",
          "exception": false,
          "start_time": "2023-03-17T15:33:16.170473",
          "status": "completed"
        },
        "tags": []
      },
      "execution_count": 25,
      "outputs": [
        {
          "name": "stdout",
          "output_type": "stream",
          "text": "Sex         131.520858\n\nPclass       28.973197\n\nParch        10.479759\n\nEmbarked      8.741111\n\nSibSp         0.362316\n\nAge_Bins      0.153818\n\ndtype: float64\n"
        },
        {
          "execution_count": 25,
          "output_type": "execute_result",
          "data": {
            "text/plain": [
              "<AxesSubplot:>"
            ]
          },
          "metadata": {}
        },
        {
          "output_type": "display_data",
          "data": {
            "image/png": "[encoded data removed]",
            "text/plain": [
              "<Figure size 432x288 with 1 Axes>"
            ]
          },
          "metadata": {
            "needs_background": "light"
          }
        }
      ],
      "id": "7122e457"
    },
    {
      "cell_type": "markdown",
      "source": "#### Observations:\n1. The above results show the most important features would be `Sex`, `Pclass`, `Parch` and `Embarked` based on Chi2 Score and its visualization.\n2. But as the count of the variables are low we won't drop any feature with low Chi2 Score for generating better result.",
      "metadata": {
        "papermill": {
          "duration": 0.067319,
          "end_time": "2023-03-17T15:33:16.616490",
          "exception": false,
          "start_time": "2023-03-17T15:33:16.549171",
          "status": "completed"
        },
        "tags": []
      },
      "id": "39600949"
    },
    {
      "cell_type": "markdown",
      "source": "## 3.2 Dropping Irrelavant variables",
      "metadata": {
        "papermill": {
          "duration": 0.0638,
          "end_time": "2023-03-17T15:33:16.744425",
          "exception": false,
          "start_time": "2023-03-17T15:33:16.680625",
          "status": "completed"
        },
        "tags": []
      },
      "id": "3e8f9c37"
    },
    {
      "cell_type": "markdown",
      "source": "#### `Fare`, `Ticket`, `PassengerId`, `Cabin` and `Name` columns make no impact and seems to be irrelevant for prediction. Hence, we can drop them.",
      "metadata": {
        "papermill": {
          "duration": 0.072416,
          "end_time": "2023-03-17T15:33:16.881692",
          "exception": false,
          "start_time": "2023-03-17T15:33:16.809276",
          "status": "completed"
        },
        "tags": []
      },
      "id": "a0d0a9d9"
    },
    {
      "cell_type": "code",
      "source": "# Drop Fare, Ticket, PassengerId, Cabin and Name columns\ndf.drop(['Fare','Ticket','PassengerId','Cabin','Name'], axis=1, inplace=True)\n\n# conforming changes\ndf.head()",
      "metadata": {
        "execution": {
          "iopub.execute_input": "2023-03-17T15:33:17.041456Z",
          "iopub.status.busy": "2023-03-17T15:33:17.030930Z",
          "iopub.status.idle": "2023-03-17T15:33:17.045804Z",
          "shell.execute_reply": "2023-03-17T15:33:17.046355Z",
          "shell.execute_reply.started": "2023-03-17T15:17:21.933287Z"
        },
        "papermill": {
          "duration": 0.082362,
          "end_time": "2023-03-17T15:33:17.046559",
          "exception": false,
          "start_time": "2023-03-17T15:33:16.964197",
          "status": "completed"
        },
        "tags": []
      },
      "execution_count": 26,
      "outputs": [
        {
          "execution_count": 26,
          "output_type": "execute_result",
          "data": {
            "text/html": [
              "<div>\n",
              "<style scoped>\n",
              "    .dataframe tbody tr th:only-of-type {\n",
              "        vertical-align: middle;\n",
              "    }\n",
              "\n",
              "    .dataframe tbody tr th {\n",
              "        vertical-align: top;\n",
              "    }\n",
              "\n",
              "    .dataframe thead th {\n",
              "        text-align: right;\n",
              "    }\n",
              "</style>\n",
              "<table border=\"1\" class=\"dataframe\">\n",
              "  <thead>\n",
              "    <tr style=\"text-align: right;\">\n",
              "      <th></th>\n",
              "      <th>Pclass</th>\n",
              "      <th>Sex</th>\n",
              "      <th>SibSp</th>\n",
              "      <th>Parch</th>\n",
              "      <th>Embarked</th>\n",
              "      <th>Age_Bins</th>\n",
              "      <th>Survived</th>\n",
              "    </tr>\n",
              "  </thead>\n",
              "  <tbody>\n",
              "    <tr>\n",
              "      <th>0</th>\n",
              "      <td>3</td>\n",
              "      <td>male</td>\n",
              "      <td>1</td>\n",
              "      <td>0</td>\n",
              "      <td>S</td>\n",
              "      <td>1</td>\n",
              "      <td>0</td>\n",
              "    </tr>\n",
              "    <tr>\n",
              "      <th>1</th>\n",
              "      <td>1</td>\n",
              "      <td>female</td>\n",
              "      <td>1</td>\n",
              "      <td>0</td>\n",
              "      <td>C</td>\n",
              "      <td>1</td>\n",
              "      <td>1</td>\n",
              "    </tr>\n",
              "    <tr>\n",
              "      <th>2</th>\n",
              "      <td>3</td>\n",
              "      <td>female</td>\n",
              "      <td>0</td>\n",
              "      <td>0</td>\n",
              "      <td>S</td>\n",
              "      <td>1</td>\n",
              "      <td>1</td>\n",
              "    </tr>\n",
              "    <tr>\n",
              "      <th>3</th>\n",
              "      <td>1</td>\n",
              "      <td>female</td>\n",
              "      <td>1</td>\n",
              "      <td>0</td>\n",
              "      <td>S</td>\n",
              "      <td>1</td>\n",
              "      <td>1</td>\n",
              "    </tr>\n",
              "    <tr>\n",
              "      <th>4</th>\n",
              "      <td>3</td>\n",
              "      <td>male</td>\n",
              "      <td>0</td>\n",
              "      <td>0</td>\n",
              "      <td>S</td>\n",
              "      <td>1</td>\n",
              "      <td>0</td>\n",
              "    </tr>\n",
              "  </tbody>\n",
              "</table>\n",
              "</div>"
            ],
            "text/plain": [
              "   Pclass     Sex  SibSp  Parch Embarked  Age_Bins  Survived\n",
              "0       3    male      1      0        S         1         0\n",
              "1       1  female      1      0        C         1         1\n",
              "2       3  female      0      0        S         1         1\n",
              "3       1  female      1      0        S         1         1\n",
              "4       3    male      0      0        S         1         0"
            ]
          },
          "metadata": {}
        }
      ],
      "id": "77408b83"
    },
    {
      "cell_type": "markdown",
      "source": "## 3.3 Convert Categorical variable to Ordinal variables",
      "metadata": {
        "papermill": {
          "duration": 0.063518,
          "end_time": "2023-03-17T15:33:17.175158",
          "exception": false,
          "start_time": "2023-03-17T15:33:17.111640",
          "status": "completed"
        },
        "tags": []
      },
      "id": "a4f0d022"
    },
    {
      "cell_type": "markdown",
      "source": "#### To bring more understanding let's convert columns like `Sex` and `Embarked` to ordinal category 0,1,2,etc.",
      "metadata": {
        "papermill": {
          "duration": 0.064356,
          "end_time": "2023-03-17T15:33:17.305575",
          "exception": false,
          "start_time": "2023-03-17T15:33:17.241219",
          "status": "completed"
        },
        "tags": []
      },
      "id": "abbfdeb5"
    },
    {
      "cell_type": "code",
      "source": "# Convert male = 0 and female = 0 in column Sex\ndf['Sex'] = df['Sex'].map(dict(zip(['male','female'],[0,1])))\n\n# Convert C=0, Q=1 and S=2 in Embarked column\ndf['Embarked'] = df['Embarked'].map(dict(zip(['C','Q','S'],[0,1,2])))\n\n# conforming changes in data\ndf.head()",
      "metadata": {
        "execution": {
          "iopub.execute_input": "2023-03-17T15:33:17.438417Z",
          "iopub.status.busy": "2023-03-17T15:33:17.437764Z",
          "iopub.status.idle": "2023-03-17T15:33:17.452326Z",
          "shell.execute_reply": "2023-03-17T15:33:17.451815Z",
          "shell.execute_reply.started": "2023-03-17T15:17:21.949529Z"
        },
        "papermill": {
          "duration": 0.08205,
          "end_time": "2023-03-17T15:33:17.452474",
          "exception": false,
          "start_time": "2023-03-17T15:33:17.370424",
          "status": "completed"
        },
        "tags": []
      },
      "execution_count": 27,
      "outputs": [
        {
          "execution_count": 27,
          "output_type": "execute_result",
          "data": {
            "text/html": [
              "<div>\n",
              "<style scoped>\n",
              "    .dataframe tbody tr th:only-of-type {\n",
              "        vertical-align: middle;\n",
              "    }\n",
              "\n",
              "    .dataframe tbody tr th {\n",
              "        vertical-align: top;\n",
              "    }\n",
              "\n",
              "    .dataframe thead th {\n",
              "        text-align: right;\n",
              "    }\n",
              "</style>\n",
              "<table border=\"1\" class=\"dataframe\">\n",
              "  <thead>\n",
              "    <tr style=\"text-align: right;\">\n",
              "      <th></th>\n",
              "      <th>Pclass</th>\n",
              "      <th>Sex</th>\n",
              "      <th>SibSp</th>\n",
              "      <th>Parch</th>\n",
              "      <th>Embarked</th>\n",
              "      <th>Age_Bins</th>\n",
              "      <th>Survived</th>\n",
              "    </tr>\n",
              "  </thead>\n",
              "  <tbody>\n",
              "    <tr>\n",
              "      <th>0</th>\n",
              "      <td>3</td>\n",
              "      <td>0</td>\n",
              "      <td>1</td>\n",
              "      <td>0</td>\n",
              "      <td>2</td>\n",
              "      <td>1</td>\n",
              "      <td>0</td>\n",
              "    </tr>\n",
              "    <tr>\n",
              "      <th>1</th>\n",
              "      <td>1</td>\n",
              "      <td>1</td>\n",
              "      <td>1</td>\n",
              "      <td>0</td>\n",
              "      <td>0</td>\n",
              "      <td>1</td>\n",
              "      <td>1</td>\n",
              "    </tr>\n",
              "    <tr>\n",
              "      <th>2</th>\n",
              "      <td>3</td>\n",
              "      <td>1</td>\n",
              "      <td>0</td>\n",
              "      <td>0</td>\n",
              "      <td>2</td>\n",
              "      <td>1</td>\n",
              "      <td>1</td>\n",
              "    </tr>\n",
              "    <tr>\n",
              "      <th>3</th>\n",
              "      <td>1</td>\n",
              "      <td>1</td>\n",
              "      <td>1</td>\n",
              "      <td>0</td>\n",
              "      <td>2</td>\n",
              "      <td>1</td>\n",
              "      <td>1</td>\n",
              "    </tr>\n",
              "    <tr>\n",
              "      <th>4</th>\n",
              "      <td>3</td>\n",
              "      <td>0</td>\n",
              "      <td>0</td>\n",
              "      <td>0</td>\n",
              "      <td>2</td>\n",
              "      <td>1</td>\n",
              "      <td>0</td>\n",
              "    </tr>\n",
              "  </tbody>\n",
              "</table>\n",
              "</div>"
            ],
            "text/plain": [
              "   Pclass  Sex  SibSp  Parch  Embarked  Age_Bins  Survived\n",
              "0       3    0      1      0         2         1         0\n",
              "1       1    1      1      0         0         1         1\n",
              "2       3    1      0      0         2         1         1\n",
              "3       1    1      1      0         2         1         1\n",
              "4       3    0      0      0         2         1         0"
            ]
          },
          "metadata": {}
        }
      ],
      "id": "29fcd3aa"
    },
    {
      "cell_type": "markdown",
      "source": "## 3.4 Visualize Correlation between all variables",
      "metadata": {
        "papermill": {
          "duration": 0.06442,
          "end_time": "2023-03-17T15:33:17.582304",
          "exception": false,
          "start_time": "2023-03-17T15:33:17.517884",
          "status": "completed"
        },
        "tags": []
      },
      "id": "357aea0b"
    },
    {
      "cell_type": "code",
      "source": "# Summary\ndf.head()",
      "metadata": {
        "execution": {
          "iopub.execute_input": "2023-03-17T15:33:17.716095Z",
          "iopub.status.busy": "2023-03-17T15:33:17.715136Z",
          "iopub.status.idle": "2023-03-17T15:33:17.725128Z",
          "shell.execute_reply": "2023-03-17T15:33:17.725646Z",
          "shell.execute_reply.started": "2023-03-17T15:17:21.972164Z"
        },
        "papermill": {
          "duration": 0.078815,
          "end_time": "2023-03-17T15:33:17.725822",
          "exception": false,
          "start_time": "2023-03-17T15:33:17.647007",
          "status": "completed"
        },
        "tags": []
      },
      "execution_count": 28,
      "outputs": [
        {
          "execution_count": 28,
          "output_type": "execute_result",
          "data": {
            "text/html": [
              "<div>\n",
              "<style scoped>\n",
              "    .dataframe tbody tr th:only-of-type {\n",
              "        vertical-align: middle;\n",
              "    }\n",
              "\n",
              "    .dataframe tbody tr th {\n",
              "        vertical-align: top;\n",
              "    }\n",
              "\n",
              "    .dataframe thead th {\n",
              "        text-align: right;\n",
              "    }\n",
              "</style>\n",
              "<table border=\"1\" class=\"dataframe\">\n",
              "  <thead>\n",
              "    <tr style=\"text-align: right;\">\n",
              "      <th></th>\n",
              "      <th>Pclass</th>\n",
              "      <th>Sex</th>\n",
              "      <th>SibSp</th>\n",
              "      <th>Parch</th>\n",
              "      <th>Embarked</th>\n",
              "      <th>Age_Bins</th>\n",
              "      <th>Survived</th>\n",
              "    </tr>\n",
              "  </thead>\n",
              "  <tbody>\n",
              "    <tr>\n",
              "      <th>0</th>\n",
              "      <td>3</td>\n",
              "      <td>0</td>\n",
              "      <td>1</td>\n",
              "      <td>0</td>\n",
              "      <td>2</td>\n",
              "      <td>1</td>\n",
              "      <td>0</td>\n",
              "    </tr>\n",
              "    <tr>\n",
              "      <th>1</th>\n",
              "      <td>1</td>\n",
              "      <td>1</td>\n",
              "      <td>1</td>\n",
              "      <td>0</td>\n",
              "      <td>0</td>\n",
              "      <td>1</td>\n",
              "      <td>1</td>\n",
              "    </tr>\n",
              "    <tr>\n",
              "      <th>2</th>\n",
              "      <td>3</td>\n",
              "      <td>1</td>\n",
              "      <td>0</td>\n",
              "      <td>0</td>\n",
              "      <td>2</td>\n",
              "      <td>1</td>\n",
              "      <td>1</td>\n",
              "    </tr>\n",
              "    <tr>\n",
              "      <th>3</th>\n",
              "      <td>1</td>\n",
              "      <td>1</td>\n",
              "      <td>1</td>\n",
              "      <td>0</td>\n",
              "      <td>2</td>\n",
              "      <td>1</td>\n",
              "      <td>1</td>\n",
              "    </tr>\n",
              "    <tr>\n",
              "      <th>4</th>\n",
              "      <td>3</td>\n",
              "      <td>0</td>\n",
              "      <td>0</td>\n",
              "      <td>0</td>\n",
              "      <td>2</td>\n",
              "      <td>1</td>\n",
              "      <td>0</td>\n",
              "    </tr>\n",
              "  </tbody>\n",
              "</table>\n",
              "</div>"
            ],
            "text/plain": [
              "   Pclass  Sex  SibSp  Parch  Embarked  Age_Bins  Survived\n",
              "0       3    0      1      0         2         1         0\n",
              "1       1    1      1      0         0         1         1\n",
              "2       3    1      0      0         2         1         1\n",
              "3       1    1      1      0         2         1         1\n",
              "4       3    0      0      0         2         1         0"
            ]
          },
          "metadata": {}
        }
      ],
      "id": "087ac96c"
    },
    {
      "cell_type": "code",
      "source": "# Visualizing correlation of all variables with traget variable\nplt.figure(figsize=(12,8))\ncorr= df.corr()\nmatrix = np.triu(corr)\nsns.heatmap(corr.round(2), annot=True, cmap='YlGnBu', center=0, linewidth=.5, mask=matrix)\nplt.show()",
      "metadata": {
        "execution": {
          "iopub.execute_input": "2023-03-17T15:33:17.864122Z",
          "iopub.status.busy": "2023-03-17T15:33:17.863450Z",
          "iopub.status.idle": "2023-03-17T15:33:18.233508Z",
          "shell.execute_reply": "2023-03-17T15:33:18.234076Z",
          "shell.execute_reply.started": "2023-03-17T15:17:21.984746Z"
        },
        "papermill": {
          "duration": 0.443137,
          "end_time": "2023-03-17T15:33:18.234251",
          "exception": false,
          "start_time": "2023-03-17T15:33:17.791114",
          "status": "completed"
        },
        "tags": []
      },
      "execution_count": 29,
      "outputs": [
        {
          "output_type": "display_data",
          "data": {
            "image/png": "[encoded data removed]",
            "text/plain": [
              "<Figure size 864x576 with 2 Axes>"
            ]
          },
          "metadata": {
            "needs_background": "light"
          }
        }
      ],
      "id": "3dc5bd51"
    },
    {
      "cell_type": "markdown",
      "source": "#### Observations:\n1. `Sex` variables seems to be positively correlated with target variable `Survived` and seems to be highly correlated with target variable.\n2. `Pclass` variables seems to be negatively correlated with target variable `Survived` and seems to be least correlated with target variable.\n3. Remaining variables `Parch`,`SibSp`,`Age_Bins` and `Embarked` also seems to be correlated with good numbers. ",
      "metadata": {
        "papermill": {
          "duration": 0.067074,
          "end_time": "2023-03-17T15:33:18.368313",
          "exception": false,
          "start_time": "2023-03-17T15:33:18.301239",
          "status": "completed"
        },
        "tags": []
      },
      "id": "87fe1f1e"
    },
    {
      "cell_type": "markdown",
      "source": "# Conclusion based on EDA\n\n---\nFollowing variables could be considered as importnat variables for model building and these variables are perfectlt correlated to target variable **Survived**. <br>\n- Pcalss, \n- Sex, \n- SibSp, \n- Parch,\n- Embarked,\n- Age_Bins.\n---",
      "metadata": {
        "papermill": {
          "duration": 0.066335,
          "end_time": "2023-03-17T15:33:18.501609",
          "exception": false,
          "start_time": "2023-03-17T15:33:18.435274",
          "status": "completed"
        },
        "tags": []
      },
      "id": "62cca226"
    }
  ]
}