{
  "metadata": {
    "colab": {
      "name": "Titanic_Data_Analysis_EDA.ipynb",
      "provenance": [],
      "collapsed_sections": []
    },
    "kernelspec": {
      "name": "python",
      "display_name": "Python (Pyodide)",
      "language": "python"
    },
    "language_info": {
      "codemirror_mode": {
        "name": "python",
        "version": 3
      },
      "file_extension": ".py",
      "mimetype": "text/x-python",
      "name": "python",
      "nbconvert_exporter": "python",
      "pygments_lexer": "ipython3",
      "version": "3.8"
    }
  },
  "nbformat_minor": 4,
  "nbformat": 4,
  "cells": [
    {
      "cell_type": "markdown",
      "source": "\n## <font color = blue> **Business Understanding** </font>\nThe Titanic dataset revolves around comprehending the factors influencing passenger survival during the tragic maritime event. By analyzing demographic and other relevant attributes, this study aims to gain insights into the dynamics that contributed to survival outcomes, aiding in the development of potential strategies for passenger safety in similar scenarios.\n\n## <font color = blue> **Problem Statement** </font>\n\nTo understand the behavior and correlation of all the variables against Target varibale **Survived**.<br>\nNote: EDA (Exploratory Data Analysis) steps will be performed to attempt a solution for given problem statement \n\n- Investigate the factors that influenced passenger survival during the Titanic disaster.\n- Analyze the relationship between demographic attributes (e.g., age, gender, class) and survival outcomes.\n- Identify any patterns or correlations within the dataset to understand the dynamics of passenger survival.\n- Develop predictive models to estimate the likelihood of survival based on available passenger information.\n- Use data visualization techniques to present key insights and findings in an easily interpretable manner.\n\n---\n\n### <font color = blue> **EDA steps to be accomplished** </font>\n\n---\n\n1. Reading and Understanding Data\n  - Checking for Incorrect Datatypes, Missing values and Null values\n  - Checking Outliers and Invalid values\n2. Data Visualization\n  - Comparing Survived against different variables\n    - Survived Vs Pclass\n    - Survived Vs Sex\n    - Survived Vs Age\n      - Survived Vs Age_Bins\n    - Survived Vs SibSp\n    - Survived Vs Parch\n    - Survived Vs Embarked\n3. Data Preparation\n  - Dropping Irrelevant variables\n  - Convert Categorical variable to Ordinal variables\n  - Visualize Correlation between all variables",
      "metadata": {
        "id": "-Bm8yGy8HDHh"
      }
    },
    {
      "cell_type": "code",
      "source": "# command to ignore warnings during filtering\nimport warnings\nwarnings.filterwarnings('ignore')",
      "metadata": {
        "id": "HBpOJQtGxifs"
      },
      "execution_count": 1,
      "outputs": []
    },
    {
      "cell_type": "code",
      "source": "# importing libraries\nimport numpy as np\nimport pandas as pd\n\n# data visualization library\nimport matplotlib.pyplot as plt\nimport seaborn as sns\n\n# machine learning library\nfrom sklearn.preprocessing import LabelEncoder\n\n# commands to display all rows and columns\npd.set_option('display.max_columns', None)\npd.set_option('display.max_rows', None)",
      "metadata": {
        "id": "aB9VoKldwdKM"
      },
      "execution_count": 2,
      "outputs": []
    },
    {
      "cell_type": "markdown",
      "source": "# Step 1: **Reading and Understanding Data**",
      "metadata": {
        "id": "ff5bZN7VzvYz"
      }
    },
    {
      "cell_type": "code",
      "source": "# reading data\ntrain_df = pd.read_csv('/content/drive/MyDrive/Colab Notebooks/train.csv')\n\ntrain_df.head()",
      "metadata": {
        "colab": {
          "base_uri": "https://localhost:8080/",
          "height": 206
        },
        "id": "_1BjUaY3y6oa",
        "outputId": "d19af401-61be-40f4-974f-8ea23d1b49d4"
      },
      "execution_count": 3,
      "outputs": [
        {
          "output_type": "execute_result",
          "execution_count": 3,
          "data": {
            "text/html": [
              "<div>\n",
              "<style scoped>\n",
              "    .dataframe tbody tr th:only-of-type {\n",
              "        vertical-align: middle;\n",
              "    }\n",
              "\n",
              "    .dataframe tbody tr th {\n",
              "        vertical-align: top;\n",
              "    }\n",
              "\n",
              "    .dataframe thead th {\n",
              "        text-align: right;\n",
              "    }\n",
              "</style>\n",
              "<table border=\"1\" class=\"dataframe\">\n",
              "  <thead>\n",
              "    <tr style=\"text-align: right;\">\n",
              "      <th></th>\n",
              "      <th>PassengerId</th>\n",
              "      <th>Survived</th>\n",
              "      <th>Pclass</th>\n",
              "      <th>Name</th>\n",
              "      <th>Sex</th>\n",
              "      <th>Age</th>\n",
              "      <th>SibSp</th>\n",
              "      <th>Parch</th>\n",
              "      <th>Ticket</th>\n",
              "      <th>Fare</th>\n",
              "      <th>Cabin</th>\n",
              "      <th>Embarked</th>\n",
              "    </tr>\n",
              "  </thead>\n",
              "  <tbody>\n",
              "    <tr>\n",
              "      <th>0</th>\n",
              "      <td>1</td>\n",
              "      <td>0</td>\n",
              "      <td>3</td>\n",
              "      <td>Braund, Mr. Owen Harris</td>\n",
              "      <td>male</td>\n",
              "      <td>22.0</td>\n",
              "      <td>1</td>\n",
              "      <td>0</td>\n",
              "      <td>A/5 21171</td>\n",
              "      <td>7.2500</td>\n",
              "      <td>NaN</td>\n",
              "      <td>S</td>\n",
              "    </tr>\n",
              "    <tr>\n",
              "      <th>1</th>\n",
              "      <td>2</td>\n",
              "      <td>1</td>\n",
              "      <td>1</td>\n",
              "      <td>Cumings, Mrs. John Bradley (Florence Briggs Th...</td>\n",
              "      <td>female</td>\n",
              "      <td>38.0</td>\n",
              "      <td>1</td>\n",
              "      <td>0</td>\n",
              "      <td>PC 17599</td>\n",
              "      <td>71.2833</td>\n",
              "      <td>C85</td>\n",
              "      <td>C</td>\n",
              "    </tr>\n",
              "    <tr>\n",
              "      <th>2</th>\n",
              "      <td>3</td>\n",
              "      <td>1</td>\n",
              "      <td>3</td>\n",
              "      <td>Heikkinen, Miss. Laina</td>\n",
              "      <td>female</td>\n",
              "      <td>26.0</td>\n",
              "      <td>0</td>\n",
              "      <td>0</td>\n",
              "      <td>STON/O2. 3101282</td>\n",
              "      <td>7.9250</td>\n",
              "      <td>NaN</td>\n",
              "      <td>S</td>\n",
              "    </tr>\n",
              "    <tr>\n",
              "      <th>3</th>\n",
              "      <td>4</td>\n",
              "      <td>1</td>\n",
              "      <td>1</td>\n",
              "      <td>Futrelle, Mrs. Jacques Heath (Lily May Peel)</td>\n",
              "      <td>female</td>\n",
              "      <td>35.0</td>\n",
              "      <td>1</td>\n",
              "      <td>0</td>\n",
              "      <td>113803</td>\n",
              "      <td>53.1000</td>\n",
              "      <td>C123</td>\n",
              "      <td>S</td>\n",
              "    </tr>\n",
              "    <tr>\n",
              "      <th>4</th>\n",
              "      <td>5</td>\n",
              "      <td>0</td>\n",
              "      <td>3</td>\n",
              "      <td>Allen, Mr. William Henry</td>\n",
              "      <td>male</td>\n",
              "      <td>35.0</td>\n",
              "      <td>0</td>\n",
              "      <td>0</td>\n",
              "      <td>373450</td>\n",
              "      <td>8.0500</td>\n",
              "      <td>NaN</td>\n",
              "      <td>S</td>\n",
              "    </tr>\n",
              "  </tbody>\n",
              "</table>\n",
              "</div>"
            ],
            "text/plain": [
              "   PassengerId  Survived  Pclass  \\\n",
              "0            1         0       3   \n",
              "1            2         1       1   \n",
              "2            3         1       3   \n",
              "3            4         1       1   \n",
              "4            5         0       3   \n",
              "\n",
              "                                                Name     Sex   Age  SibSp  \\\n",
              "0                            Braund, Mr. Owen Harris    male  22.0      1   \n",
              "1  Cumings, Mrs. John Bradley (Florence Briggs Th...  female  38.0      1   \n",
              "2                             Heikkinen, Miss. Laina  female  26.0      0   \n",
              "3       Futrelle, Mrs. Jacques Heath (Lily May Peel)  female  35.0      1   \n",
              "4                           Allen, Mr. William Henry    male  35.0      0   \n",
              "\n",
              "   Parch            Ticket     Fare Cabin Embarked  \n",
              "0      0         A/5 21171   7.2500   NaN        S  \n",
              "1      0          PC 17599  71.2833   C85        C  \n",
              "2      0  STON/O2. 3101282   7.9250   NaN        S  \n",
              "3      0            113803  53.1000  C123        S  \n",
              "4      0            373450   8.0500   NaN        S  "
            ]
          },
          "metadata": {
            "tags": []
          }
        }
      ]
    },
    {
      "cell_type": "code",
      "source": "# checking no. of rows and columns\ntrain_df.shape",
      "metadata": {
        "colab": {
          "base_uri": "https://localhost:8080/"
        },
        "id": "PXjBXcM5zcE0",
        "outputId": "6f8499f5-29ae-4b92-ccca-8e166f20ed52"
      },
      "execution_count": 4,
      "outputs": [
        {
          "output_type": "execute_result",
          "execution_count": 4,
          "data": {
            "text/plain": [
              "(891, 12)"
            ]
          },
          "metadata": {
            "tags": []
          }
        }
      ]
    },
    {
      "cell_type": "markdown",
      "source": "##### There are 891 rows and 11 columns with 1 target column making total 12 columns",
      "metadata": {
        "id": "FVngVfAT0IkY"
      }
    },
    {
      "cell_type": "markdown",
      "source": "### 1.1 Checking for **Incorrect Datatypes, Missing values and Null values**",
      "metadata": {
        "id": "NxXFKjZ8heHV"
      }
    },
    {
      "cell_type": "code",
      "source": "# summary of the data\ntrain_df.info()",
      "metadata": {
        "colab": {
          "base_uri": "https://localhost:8080/"
        },
        "id": "PEe7nbb90F7m",
        "outputId": "454f4528-2576-4357-f06d-da3db1cf44dd"
      },
      "execution_count": 5,
      "outputs": [
        {
          "output_type": "stream",
          "text": "<class 'pandas.core.frame.DataFrame'>\n\nRangeIndex: 891 entries, 0 to 890\n\nData columns (total 12 columns):\n\n #   Column       Non-Null Count  Dtype  \n\n---  ------       --------------  -----  \n\n 0   PassengerId  891 non-null    int64  \n\n 1   Survived     891 non-null    int64  \n\n 2   Pclass       891 non-null    int64  \n\n 3   Name         891 non-null    object \n\n 4   Sex          891 non-null    object \n\n 5   Age          714 non-null    float64\n\n 6   SibSp        891 non-null    int64  \n\n 7   Parch        891 non-null    int64  \n\n 8   Ticket       891 non-null    object \n\n 9   Fare         891 non-null    float64\n\n 10  Cabin        204 non-null    object \n\n 11  Embarked     889 non-null    object \n\ndtypes: float64(2), int64(5), object(5)\n\nmemory usage: 83.7+ KB\n",
          "name": "stdout"
        }
      ]
    },
    {
      "cell_type": "markdown",
      "source": "- Datatype for `Age` column needs to be changed as age in never in fractional form.\n- Columns like `Cabin, Age` have huge number of missing values which needs to be treated before proceedings.\n- Even `Embarked` is having null values which can be imputed.",
      "metadata": {
        "id": "gbFQxfUa1fNd"
      }
    },
    {
      "cell_type": "code",
      "source": "# counting null/na values in the columns\ntrain_df.isna().sum()",
      "metadata": {
        "colab": {
          "base_uri": "https://localhost:8080/"
        },
        "id": "53x3qThzQ85L",
        "outputId": "dc9a4531-cb17-44b9-d096-f1f91cdbf3d0"
      },
      "execution_count": 6,
      "outputs": [
        {
          "output_type": "execute_result",
          "execution_count": 6,
          "data": {
            "text/plain": [
              "PassengerId      0\n",
              "Survived         0\n",
              "Pclass           0\n",
              "Name             0\n",
              "Sex              0\n",
              "Age            177\n",
              "SibSp            0\n",
              "Parch            0\n",
              "Ticket           0\n",
              "Fare             0\n",
              "Cabin          687\n",
              "Embarked         2\n",
              "dtype: int64"
            ]
          },
          "metadata": {
            "tags": []
          }
        }
      ]
    },
    {
      "cell_type": "code",
      "source": "# calculating percentage of missing values\n((train_df.isna()|train_df.isnull()).sum() * 100 / len(train_df)).round(2)",
      "metadata": {
        "colab": {
          "base_uri": "https://localhost:8080/"
        },
        "id": "dNlzVHtsSxM0",
        "outputId": "ad49af3b-2e00-4422-e0c6-6c4b8732a76d"
      },
      "execution_count": 7,
      "outputs": [
        {
          "output_type": "execute_result",
          "execution_count": 7,
          "data": {
            "text/plain": [
              "PassengerId     0.00\n",
              "Survived        0.00\n",
              "Pclass          0.00\n",
              "Name            0.00\n",
              "Sex             0.00\n",
              "Age            19.87\n",
              "SibSp           0.00\n",
              "Parch           0.00\n",
              "Ticket          0.00\n",
              "Fare            0.00\n",
              "Cabin          77.10\n",
              "Embarked        0.22\n",
              "dtype: float64"
            ]
          },
          "metadata": {
            "tags": []
          }
        }
      ]
    },
    {
      "cell_type": "markdown",
      "source": "#### If a column has missing value percentage more than 50% than those columns should not be dropped as it could significantly affect the final outcome.\n1. The percentage of `Age` column with missing values is 19.87% which can be dropped.\n2. `Cabin` column has higher number of missing value i.e. 77.10%, hence, these can't be dropped but could be imputed using mode (selecting most frequent value).\n3. Similarly, `Embarked` column could be imputed using mode.",
      "metadata": {
        "id": "D5cRqphNT-1g"
      }
    },
    {
      "cell_type": "code",
      "source": "# 1. Dropping missing values in 'Age' column\ntrain_df=train_df[train_df['Age'].notnull()]",
      "metadata": {
        "id": "OL_eNXNYVZxf"
      },
      "execution_count": 8,
      "outputs": []
    },
    {
      "cell_type": "code",
      "source": "# Cross-checking the changes\ntrain_df.isnull().sum()",
      "metadata": {
        "colab": {
          "base_uri": "https://localhost:8080/"
        },
        "id": "YnkAjfpQXl3V",
        "outputId": "f59f0c93-05ce-416d-8ba9-e93d1cea2069"
      },
      "execution_count": 9,
      "outputs": [
        {
          "output_type": "execute_result",
          "execution_count": 9,
          "data": {
            "text/plain": [
              "PassengerId      0\n",
              "Survived         0\n",
              "Pclass           0\n",
              "Name             0\n",
              "Sex              0\n",
              "Age              0\n",
              "SibSp            0\n",
              "Parch            0\n",
              "Ticket           0\n",
              "Fare             0\n",
              "Cabin          529\n",
              "Embarked         2\n",
              "dtype: int64"
            ]
          },
          "metadata": {
            "tags": []
          }
        }
      ]
    },
    {
      "cell_type": "code",
      "source": "# Changing datatype of Age column to 'int' type\ntrain_df['Age'] = train_df['Age'].astype('int64')",
      "metadata": {
        "id": "jgvw6c6gisTu"
      },
      "execution_count": 10,
      "outputs": []
    },
    {
      "cell_type": "code",
      "source": "# confirming changes\ntrain_df.dtypes",
      "metadata": {
        "colab": {
          "base_uri": "https://localhost:8080/"
        },
        "id": "SpduaOEOi9Fb",
        "outputId": "c6ee54f5-f29f-403e-93d0-723a5e37d3d6"
      },
      "execution_count": 11,
      "outputs": [
        {
          "output_type": "execute_result",
          "execution_count": 11,
          "data": {
            "text/plain": [
              "PassengerId      int64\n",
              "Survived         int64\n",
              "Pclass           int64\n",
              "Name            object\n",
              "Sex             object\n",
              "Age              int64\n",
              "SibSp            int64\n",
              "Parch            int64\n",
              "Ticket          object\n",
              "Fare           float64\n",
              "Cabin           object\n",
              "Embarked        object\n",
              "dtype: object"
            ]
          },
          "metadata": {
            "tags": []
          }
        }
      ]
    },
    {
      "cell_type": "code",
      "source": "# 2. & 3. Imputing null values with most frequent values in Cabin and Embarked coulmns using mode()\ntrain_df.fillna(train_df.select_dtypes(include='object').mode().iloc[0], inplace=True)",
      "metadata": {
        "id": "Zx0TlU9XY8I4"
      },
      "execution_count": 12,
      "outputs": []
    },
    {
      "cell_type": "code",
      "source": "# conforming changes\ntrain_df.isnull().sum()",
      "metadata": {
        "colab": {
          "base_uri": "https://localhost:8080/"
        },
        "id": "Nw5eXQMvY7PC",
        "outputId": "3fc7eedf-0c82-4ef7-dabd-b6a910d3ec14"
      },
      "execution_count": 13,
      "outputs": [
        {
          "output_type": "execute_result",
          "execution_count": 13,
          "data": {
            "text/plain": [
              "PassengerId    0\n",
              "Survived       0\n",
              "Pclass         0\n",
              "Name           0\n",
              "Sex            0\n",
              "Age            0\n",
              "SibSp          0\n",
              "Parch          0\n",
              "Ticket         0\n",
              "Fare           0\n",
              "Cabin          0\n",
              "Embarked       0\n",
              "dtype: int64"
            ]
          },
          "metadata": {
            "tags": []
          }
        }
      ]
    },
    {
      "cell_type": "markdown",
      "source": "### 1.2 Checking **Outliers and Invalid values**",
      "metadata": {
        "id": "GVjPdfi1h-cV"
      }
    },
    {
      "cell_type": "code",
      "source": "# describing dataset\ntrain_df.describe()",
      "metadata": {
        "colab": {
          "base_uri": "https://localhost:8080/",
          "height": 300
        },
        "id": "ubDPNNpW1biG",
        "outputId": "c46e6c13-ec50-4a9e-db0a-4f24bb012b85"
      },
      "execution_count": 14,
      "outputs": [
        {
          "output_type": "execute_result",
          "execution_count": 14,
          "data": {
            "text/html": [
              "<div>\n",
              "<style scoped>\n",
              "    .dataframe tbody tr th:only-of-type {\n",
              "        vertical-align: middle;\n",
              "    }\n",
              "\n",
              "    .dataframe tbody tr th {\n",
              "        vertical-align: top;\n",
              "    }\n",
              "\n",
              "    .dataframe thead th {\n",
              "        text-align: right;\n",
              "    }\n",
              "</style>\n",
              "<table border=\"1\" class=\"dataframe\">\n",
              "  <thead>\n",
              "    <tr style=\"text-align: right;\">\n",
              "      <th></th>\n",
              "      <th>PassengerId</th>\n",
              "      <th>Survived</th>\n",
              "      <th>Pclass</th>\n",
              "      <th>Age</th>\n",
              "      <th>SibSp</th>\n",
              "      <th>Parch</th>\n",
              "      <th>Fare</th>\n",
              "    </tr>\n",
              "  </thead>\n",
              "  <tbody>\n",
              "    <tr>\n",
              "      <th>count</th>\n",
              "      <td>714.000000</td>\n",
              "      <td>714.000000</td>\n",
              "      <td>714.000000</td>\n",
              "      <td>714.000000</td>\n",
              "      <td>714.000000</td>\n",
              "      <td>714.000000</td>\n",
              "      <td>714.000000</td>\n",
              "    </tr>\n",
              "    <tr>\n",
              "      <th>mean</th>\n",
              "      <td>448.582633</td>\n",
              "      <td>0.406162</td>\n",
              "      <td>2.236695</td>\n",
              "      <td>29.679272</td>\n",
              "      <td>0.512605</td>\n",
              "      <td>0.431373</td>\n",
              "      <td>34.694514</td>\n",
              "    </tr>\n",
              "    <tr>\n",
              "      <th>std</th>\n",
              "      <td>259.119524</td>\n",
              "      <td>0.491460</td>\n",
              "      <td>0.838250</td>\n",
              "      <td>14.536483</td>\n",
              "      <td>0.929783</td>\n",
              "      <td>0.853289</td>\n",
              "      <td>52.918930</td>\n",
              "    </tr>\n",
              "    <tr>\n",
              "      <th>min</th>\n",
              "      <td>1.000000</td>\n",
              "      <td>0.000000</td>\n",
              "      <td>1.000000</td>\n",
              "      <td>0.000000</td>\n",
              "      <td>0.000000</td>\n",
              "      <td>0.000000</td>\n",
              "      <td>0.000000</td>\n",
              "    </tr>\n",
              "    <tr>\n",
              "      <th>25%</th>\n",
              "      <td>222.250000</td>\n",
              "      <td>0.000000</td>\n",
              "      <td>1.000000</td>\n",
              "      <td>20.000000</td>\n",
              "      <td>0.000000</td>\n",
              "      <td>0.000000</td>\n",
              "      <td>8.050000</td>\n",
              "    </tr>\n",
              "    <tr>\n",
              "      <th>50%</th>\n",
              "      <td>445.000000</td>\n",
              "      <td>0.000000</td>\n",
              "      <td>2.000000</td>\n",
              "      <td>28.000000</td>\n",
              "      <td>0.000000</td>\n",
              "      <td>0.000000</td>\n",
              "      <td>15.741700</td>\n",
              "    </tr>\n",
              "    <tr>\n",
              "      <th>75%</th>\n",
              "      <td>677.750000</td>\n",
              "      <td>1.000000</td>\n",
              "      <td>3.000000</td>\n",
              "      <td>38.000000</td>\n",
              "      <td>1.000000</td>\n",
              "      <td>1.000000</td>\n",
              "      <td>33.375000</td>\n",
              "    </tr>\n",
              "    <tr>\n",
              "      <th>max</th>\n",
              "      <td>891.000000</td>\n",
              "      <td>1.000000</td>\n",
              "      <td>3.000000</td>\n",
              "      <td>80.000000</td>\n",
              "      <td>5.000000</td>\n",
              "      <td>6.000000</td>\n",
              "      <td>512.329200</td>\n",
              "    </tr>\n",
              "  </tbody>\n",
              "</table>\n",
              "</div>"
            ],
            "text/plain": [
              "       PassengerId    Survived      Pclass         Age       SibSp  \\\n",
              "count   714.000000  714.000000  714.000000  714.000000  714.000000   \n",
              "mean    448.582633    0.406162    2.236695   29.679272    0.512605   \n",
              "std     259.119524    0.491460    0.838250   14.536483    0.929783   \n",
              "min       1.000000    0.000000    1.000000    0.000000    0.000000   \n",
              "25%     222.250000    0.000000    1.000000   20.000000    0.000000   \n",
              "50%     445.000000    0.000000    2.000000   28.000000    0.000000   \n",
              "75%     677.750000    1.000000    3.000000   38.000000    1.000000   \n",
              "max     891.000000    1.000000    3.000000   80.000000    5.000000   \n",
              "\n",
              "            Parch        Fare  \n",
              "count  714.000000  714.000000  \n",
              "mean     0.431373   34.694514  \n",
              "std      0.853289   52.918930  \n",
              "min      0.000000    0.000000  \n",
              "25%      0.000000    8.050000  \n",
              "50%      0.000000   15.741700  \n",
              "75%      1.000000   33.375000  \n",
              "max      6.000000  512.329200  "
            ]
          },
          "metadata": {
            "tags": []
          }
        }
      ]
    },
    {
      "cell_type": "markdown",
      "source": "* There seems to be have no outliers and invalid values in the data.",
      "metadata": {
        "id": "NS5d0ms-6d6R"
      }
    },
    {
      "cell_type": "markdown",
      "source": "# Step 2: Data Visualization",
      "metadata": {
        "id": "V3kLVYRxNpUP"
      }
    },
    {
      "cell_type": "code",
      "source": "# Data observing\ntrain_df.head()",
      "metadata": {
        "colab": {
          "base_uri": "https://localhost:8080/",
          "height": 206
        },
        "id": "gTSJnWSopnqi",
        "outputId": "28168e02-c24d-412b-c701-78962adfc308"
      },
      "execution_count": 15,
      "outputs": [
        {
          "output_type": "execute_result",
          "execution_count": 15,
          "data": {
            "text/html": [
              "<div>\n",
              "<style scoped>\n",
              "    .dataframe tbody tr th:only-of-type {\n",
              "        vertical-align: middle;\n",
              "    }\n",
              "\n",
              "    .dataframe tbody tr th {\n",
              "        vertical-align: top;\n",
              "    }\n",
              "\n",
              "    .dataframe thead th {\n",
              "        text-align: right;\n",
              "    }\n",
              "</style>\n",
              "<table border=\"1\" class=\"dataframe\">\n",
              "  <thead>\n",
              "    <tr style=\"text-align: right;\">\n",
              "      <th></th>\n",
              "      <th>PassengerId</th>\n",
              "      <th>Survived</th>\n",
              "      <th>Pclass</th>\n",
              "      <th>Name</th>\n",
              "      <th>Sex</th>\n",
              "      <th>Age</th>\n",
              "      <th>SibSp</th>\n",
              "      <th>Parch</th>\n",
              "      <th>Ticket</th>\n",
              "      <th>Fare</th>\n",
              "      <th>Cabin</th>\n",
              "      <th>Embarked</th>\n",
              "    </tr>\n",
              "  </thead>\n",
              "  <tbody>\n",
              "    <tr>\n",
              "      <th>0</th>\n",
              "      <td>1</td>\n",
              "      <td>0</td>\n",
              "      <td>3</td>\n",
              "      <td>Braund, Mr. Owen Harris</td>\n",
              "      <td>male</td>\n",
              "      <td>22</td>\n",
              "      <td>1</td>\n",
              "      <td>0</td>\n",
              "      <td>A/5 21171</td>\n",
              "      <td>7.2500</td>\n",
              "      <td>B96 B98</td>\n",
              "      <td>S</td>\n",
              "    </tr>\n",
              "    <tr>\n",
              "      <th>1</th>\n",
              "      <td>2</td>\n",
              "      <td>1</td>\n",
              "      <td>1</td>\n",
              "      <td>Cumings, Mrs. John Bradley (Florence Briggs Th...</td>\n",
              "      <td>female</td>\n",
              "      <td>38</td>\n",
              "      <td>1</td>\n",
              "      <td>0</td>\n",
              "      <td>PC 17599</td>\n",
              "      <td>71.2833</td>\n",
              "      <td>C85</td>\n",
              "      <td>C</td>\n",
              "    </tr>\n",
              "    <tr>\n",
              "      <th>2</th>\n",
              "      <td>3</td>\n",
              "      <td>1</td>\n",
              "      <td>3</td>\n",
              "      <td>Heikkinen, Miss. Laina</td>\n",
              "      <td>female</td>\n",
              "      <td>26</td>\n",
              "      <td>0</td>\n",
              "      <td>0</td>\n",
              "      <td>STON/O2. 3101282</td>\n",
              "      <td>7.9250</td>\n",
              "      <td>B96 B98</td>\n",
              "      <td>S</td>\n",
              "    </tr>\n",
              "    <tr>\n",
              "      <th>3</th>\n",
              "      <td>4</td>\n",
              "      <td>1</td>\n",
              "      <td>1</td>\n",
              "      <td>Futrelle, Mrs. Jacques Heath (Lily May Peel)</td>\n",
              "      <td>female</td>\n",
              "      <td>35</td>\n",
              "      <td>1</td>\n",
              "      <td>0</td>\n",
              "      <td>113803</td>\n",
              "      <td>53.1000</td>\n",
              "      <td>C123</td>\n",
              "      <td>S</td>\n",
              "    </tr>\n",
              "    <tr>\n",
              "      <th>4</th>\n",
              "      <td>5</td>\n",
              "      <td>0</td>\n",
              "      <td>3</td>\n",
              "      <td>Allen, Mr. William Henry</td>\n",
              "      <td>male</td>\n",
              "      <td>35</td>\n",
              "      <td>0</td>\n",
              "      <td>0</td>\n",
              "      <td>373450</td>\n",
              "      <td>8.0500</td>\n",
              "      <td>B96 B98</td>\n",
              "      <td>S</td>\n",
              "    </tr>\n",
              "  </tbody>\n",
              "</table>\n",
              "</div>"
            ],
            "text/plain": [
              "   PassengerId  Survived  Pclass  \\\n",
              "0            1         0       3   \n",
              "1            2         1       1   \n",
              "2            3         1       3   \n",
              "3            4         1       1   \n",
              "4            5         0       3   \n",
              "\n",
              "                                                Name     Sex  Age  SibSp  \\\n",
              "0                            Braund, Mr. Owen Harris    male   22      1   \n",
              "1  Cumings, Mrs. John Bradley (Florence Briggs Th...  female   38      1   \n",
              "2                             Heikkinen, Miss. Laina  female   26      0   \n",
              "3       Futrelle, Mrs. Jacques Heath (Lily May Peel)  female   35      1   \n",
              "4                           Allen, Mr. William Henry    male   35      0   \n",
              "\n",
              "   Parch            Ticket     Fare    Cabin Embarked  \n",
              "0      0         A/5 21171   7.2500  B96 B98        S  \n",
              "1      0          PC 17599  71.2833      C85        C  \n",
              "2      0  STON/O2. 3101282   7.9250  B96 B98        S  \n",
              "3      0            113803  53.1000     C123        S  \n",
              "4      0            373450   8.0500  B96 B98        S  "
            ]
          },
          "metadata": {
            "tags": []
          }
        }
      ]
    },
    {
      "cell_type": "code",
      "source": "# data summary\ntrain_df.info()",
      "metadata": {
        "colab": {
          "base_uri": "https://localhost:8080/"
        },
        "id": "iE7j4nMPkm2Q",
        "outputId": "c8809ae8-f524-4b0b-fe64-8dfe9d60d88f"
      },
      "execution_count": 16,
      "outputs": [
        {
          "output_type": "stream",
          "text": "<class 'pandas.core.frame.DataFrame'>\n\nInt64Index: 714 entries, 0 to 890\n\nData columns (total 12 columns):\n\n #   Column       Non-Null Count  Dtype  \n\n---  ------       --------------  -----  \n\n 0   PassengerId  714 non-null    int64  \n\n 1   Survived     714 non-null    int64  \n\n 2   Pclass       714 non-null    int64  \n\n 3   Name         714 non-null    object \n\n 4   Sex          714 non-null    object \n\n 5   Age          714 non-null    int64  \n\n 6   SibSp        714 non-null    int64  \n\n 7   Parch        714 non-null    int64  \n\n 8   Ticket       714 non-null    object \n\n 9   Fare         714 non-null    float64\n\n 10  Cabin        714 non-null    object \n\n 11  Embarked     714 non-null    object \n\ndtypes: float64(1), int64(6), object(5)\n\nmemory usage: 72.5+ KB\n",
          "name": "stdout"
        }
      ]
    },
    {
      "cell_type": "markdown",
      "source": "## 2.1 Comparing `Survived` against different variables",
      "metadata": {
        "id": "DP4QtyjGn5QK"
      }
    },
    {
      "cell_type": "markdown",
      "source": "### 2.1.1 Survived Vs Pclass",
      "metadata": {
        "id": "Yk_-2bhcoPgv"
      }
    },
    {
      "cell_type": "code",
      "source": "# Visualizing 'Survived' Vs 'Pclass'\nsns.countplot(x='Pclass', data=train_df, hue='Survived')\nplt.title('Pclass Vs Survived', fontsize=20)\nplt.xlabel('Pclass', fontsize=15)\nplt.ylabel('Survival Count', fontsize=15)\nplt.show()",
      "metadata": {
        "colab": {
          "base_uri": "https://localhost:8080/",
          "height": 305
        },
        "id": "zPk-RiFtm8E1",
        "outputId": "1b957e7f-07e1-49d2-d21e-e5354f051c08"
      },
      "execution_count": 17,
      "outputs": [
        {
          "output_type": "display_data",
          "data": {
            "image/png": "[encoded data removed]",
            "text/plain": [
              "<Figure size 432x288 with 1 Axes>"
            ]
          },
          "metadata": {
            "tags": [],
            "needs_background": "light"
          }
        }
      ]
    },
    {
      "cell_type": "markdown",
      "source": "1. We can clear see and understand that passengers of with `3rd class ticket had very low chance of surviving`.\n2. Where, passengers of `1st class ticket had higher chances of surviving`.\n3. Passenger with `2nd class ticket had mix match chances` of surviving and dying. ",
      "metadata": {
        "id": "1HsE7PHsyj2O"
      }
    },
    {
      "cell_type": "markdown",
      "source": "### 2.1.2 Survived Vs Sex",
      "metadata": {
        "id": "DAMaoSSkuTTP"
      }
    },
    {
      "cell_type": "code",
      "source": "# Visualizing 'Survived' Vs 'Sex'\nsns.countplot(x='Sex', data=train_df, hue='Survived')\nplt.title('Sex Vs Survived', fontsize=20)\nplt.xlabel('Sex', fontsize=15)\nplt.ylabel('Survival Count', fontsize=15)\nplt.show()\n\n# Visualizing 'Pclass' Vs 'Sex'\nsns.countplot(x='Pclass', data=train_df, hue='Sex', palette='husl')\nplt.title('Pclass Vs Sex', fontsize=20)\nplt.xlabel('Pclass', fontsize=15)\nplt.ylabel('Gender Count', fontsize=15)\nplt.show()\n\n# Visualizing 'Survived' Vs 'Pclass'\nsns.countplot(x='Pclass', data=train_df, hue='Survived', palette='muted')\nplt.title('Pclass Vs Survived', fontsize=20)\nplt.xlabel('Pclass', fontsize=15)\nplt.ylabel('Survival Count', fontsize=15)\nplt.show()",
      "metadata": {
        "colab": {
          "base_uri": "https://localhost:8080/",
          "height": 881
        },
        "id": "GLEptxVtp4hA",
        "outputId": "e3697f5c-2958-492d-c632-8a996cc7e920"
      },
      "execution_count": 18,
      "outputs": [
        {
          "output_type": "display_data",
          "data": {
            "image/png": "[encoded data removed]",
            "text/plain": [
              "<Figure size 432x288 with 1 Axes>"
            ]
          },
          "metadata": {
            "tags": [],
            "needs_background": "light"
          }
        },
        {
          "output_type": "display_data",
          "data": {
            "image/png": "[encoded data removed]",
            "text/plain": [
              "<Figure size 432x288 with 1 Axes>"
            ]
          },
          "metadata": {
            "tags": [],
            "needs_background": "light"
          }
        },
        {
          "output_type": "display_data",
          "data": {
            "image/png": "[encoded data removed]",
            "text/plain": [
              "<Figure size 432x288 with 1 Axes>"
            ]
          },
          "metadata": {
            "tags": [],
            "needs_background": "light"
          }
        }
      ]
    },
    {
      "cell_type": "markdown",
      "source": "1. This visualization shows that more number of females were able to survive the accident.<br>\n`Note: The reason behind this could be as number of life boats were less and therefore females were considered above males`\n2. As we saw in `Pclass Vs Survived` visualization that passengers in 3rd class had lowest survival rate and above visualization of `Pclass Vs Sex` concludes that there were higher number of male passengers in 3rd class.<br>\n`Hence there were more deaths than survival among among males in 'Gender Vs Survived' visualization` ",
      "metadata": {
        "id": "bcahN0iv6CFs"
      }
    },
    {
      "cell_type": "markdown",
      "source": "### 2.1.3 Survived Vs Age",
      "metadata": {
        "id": "eXMifL4Subr8"
      }
    },
    {
      "cell_type": "code",
      "source": "# Visualizing 'Survived' Vs 'Age'\nsns.countplot(x='Age', data=train_df, hue='Survived')\nplt.title('Age Vs Survived', fontsize=20)\nplt.xlabel('Age', fontsize=15)\nplt.ylabel('Survival Count', fontsize=15)\nplt.legend(bbox_to_anchor=(1.01, 1),borderaxespad=0)\nplt.show()",
      "metadata": {
        "colab": {
          "base_uri": "https://localhost:8080/",
          "height": 305
        },
        "id": "E6aJWTcRsq2D",
        "outputId": "8ecfe3e9-950e-4eb5-c296-d18b15e63701"
      },
      "execution_count": 19,
      "outputs": [
        {
          "output_type": "display_data",
          "data": {
            "image/png": "[encoded data removed]",
            "text/plain": [
              "<Figure size 432x288 with 1 Axes>"
            ]
          },
          "metadata": {
            "tags": [],
            "needs_background": "light"
          }
        }
      ]
    },
    {
      "cell_type": "markdown",
      "source": "#### To have a proper visualization of `Age` column we can create range of ages say 0-20, 21-40, 41-60, 61-80 and label them as 0,1,2,3.",
      "metadata": {
        "id": "E7MfbE4DvEDx"
      }
    },
    {
      "cell_type": "code",
      "source": "# Create ordinal category for Age using binning method cut\ncutLabels= [0,1,2,3]\ncutBins = [0, 21, 41, 61, 80]\ntrain_df['Age_Bins'] = pd.cut(train_df['Age'], bins=cutBins, labels=cutLabels)",
      "metadata": {
        "id": "KL2GGrHH5aE-"
      },
      "execution_count": 20,
      "outputs": []
    },
    {
      "cell_type": "code",
      "source": "train_df.Age_Bins.value_counts()",
      "metadata": {
        "colab": {
          "base_uri": "https://localhost:8080/"
        },
        "id": "pABQuxrdv9v1",
        "outputId": "9845563e-faa9-4908-ba1d-1786fe2004d0"
      },
      "execution_count": 21,
      "outputs": [
        {
          "output_type": "execute_result",
          "execution_count": 21,
          "data": {
            "text/plain": [
              "1    368\n",
              "0    197\n",
              "2    123\n",
              "3     19\n",
              "Name: Age_Bins, dtype: int64"
            ]
          },
          "metadata": {
            "tags": []
          }
        }
      ]
    },
    {
      "cell_type": "markdown",
      "source": "#### Now we can remove `Age` Column and use `Age_Bin` for visualization and analysis ",
      "metadata": {
        "id": "nzVZ1EKW9jfh"
      }
    },
    {
      "cell_type": "code",
      "source": "# Drop 'Age' column\ntrain_df.drop(['Age'], axis=1, inplace=True)\ntrain_df.head()",
      "metadata": {
        "colab": {
          "base_uri": "https://localhost:8080/",
          "height": 275
        },
        "id": "2MsOQ_7Z9F2b",
        "outputId": "d59f6b89-33c1-4733-d062-a7b3d3f621d4"
      },
      "execution_count": 22,
      "outputs": [
        {
          "output_type": "execute_result",
          "execution_count": 22,
          "data": {
            "text/html": [
              "<div>\n",
              "<style scoped>\n",
              "    .dataframe tbody tr th:only-of-type {\n",
              "        vertical-align: middle;\n",
              "    }\n",
              "\n",
              "    .dataframe tbody tr th {\n",
              "        vertical-align: top;\n",
              "    }\n",
              "\n",
              "    .dataframe thead th {\n",
              "        text-align: right;\n",
              "    }\n",
              "</style>\n",
              "<table border=\"1\" class=\"dataframe\">\n",
              "  <thead>\n",
              "    <tr style=\"text-align: right;\">\n",
              "      <th></th>\n",
              "      <th>PassengerId</th>\n",
              "      <th>Survived</th>\n",
              "      <th>Pclass</th>\n",
              "      <th>Name</th>\n",
              "      <th>Sex</th>\n",
              "      <th>SibSp</th>\n",
              "      <th>Parch</th>\n",
              "      <th>Ticket</th>\n",
              "      <th>Fare</th>\n",
              "      <th>Cabin</th>\n",
              "      <th>Embarked</th>\n",
              "      <th>Age_Bins</th>\n",
              "    </tr>\n",
              "  </thead>\n",
              "  <tbody>\n",
              "    <tr>\n",
              "      <th>0</th>\n",
              "      <td>1</td>\n",
              "      <td>0</td>\n",
              "      <td>3</td>\n",
              "      <td>Braund, Mr. Owen Harris</td>\n",
              "      <td>male</td>\n",
              "      <td>1</td>\n",
              "      <td>0</td>\n",
              "      <td>A/5 21171</td>\n",
              "      <td>7.2500</td>\n",
              "      <td>B96 B98</td>\n",
              "      <td>S</td>\n",
              "      <td>1</td>\n",
              "    </tr>\n",
              "    <tr>\n",
              "      <th>1</th>\n",
              "      <td>2</td>\n",
              "      <td>1</td>\n",
              "      <td>1</td>\n",
              "      <td>Cumings, Mrs. John Bradley (Florence Briggs Th...</td>\n",
              "      <td>female</td>\n",
              "      <td>1</td>\n",
              "      <td>0</td>\n",
              "      <td>PC 17599</td>\n",
              "      <td>71.2833</td>\n",
              "      <td>C85</td>\n",
              "      <td>C</td>\n",
              "      <td>1</td>\n",
              "    </tr>\n",
              "    <tr>\n",
              "      <th>2</th>\n",
              "      <td>3</td>\n",
              "      <td>1</td>\n",
              "      <td>3</td>\n",
              "      <td>Heikkinen, Miss. Laina</td>\n",
              "      <td>female</td>\n",
              "      <td>0</td>\n",
              "      <td>0</td>\n",
              "      <td>STON/O2. 3101282</td>\n",
              "      <td>7.9250</td>\n",
              "      <td>B96 B98</td>\n",
              "      <td>S</td>\n",
              "      <td>1</td>\n",
              "    </tr>\n",
              "    <tr>\n",
              "      <th>3</th>\n",
              "      <td>4</td>\n",
              "      <td>1</td>\n",
              "      <td>1</td>\n",
              "      <td>Futrelle, Mrs. Jacques Heath (Lily May Peel)</td>\n",
              "      <td>female</td>\n",
              "      <td>1</td>\n",
              "      <td>0</td>\n",
              "      <td>113803</td>\n",
              "      <td>53.1000</td>\n",
              "      <td>C123</td>\n",
              "      <td>S</td>\n",
              "      <td>1</td>\n",
              "    </tr>\n",
              "    <tr>\n",
              "      <th>4</th>\n",
              "      <td>5</td>\n",
              "      <td>0</td>\n",
              "      <td>3</td>\n",
              "      <td>Allen, Mr. William Henry</td>\n",
              "      <td>male</td>\n",
              "      <td>0</td>\n",
              "      <td>0</td>\n",
              "      <td>373450</td>\n",
              "      <td>8.0500</td>\n",
              "      <td>B96 B98</td>\n",
              "      <td>S</td>\n",
              "      <td>1</td>\n",
              "    </tr>\n",
              "  </tbody>\n",
              "</table>\n",
              "</div>"
            ],
            "text/plain": [
              "   PassengerId  Survived  Pclass  \\\n",
              "0            1         0       3   \n",
              "1            2         1       1   \n",
              "2            3         1       3   \n",
              "3            4         1       1   \n",
              "4            5         0       3   \n",
              "\n",
              "                                                Name     Sex  SibSp  Parch  \\\n",
              "0                            Braund, Mr. Owen Harris    male      1      0   \n",
              "1  Cumings, Mrs. John Bradley (Florence Briggs Th...  female      1      0   \n",
              "2                             Heikkinen, Miss. Laina  female      0      0   \n",
              "3       Futrelle, Mrs. Jacques Heath (Lily May Peel)  female      1      0   \n",
              "4                           Allen, Mr. William Henry    male      0      0   \n",
              "\n",
              "             Ticket     Fare    Cabin Embarked Age_Bins  \n",
              "0         A/5 21171   7.2500  B96 B98        S        1  \n",
              "1          PC 17599  71.2833      C85        C        1  \n",
              "2  STON/O2. 3101282   7.9250  B96 B98        S        1  \n",
              "3            113803  53.1000     C123        S        1  \n",
              "4            373450   8.0500  B96 B98        S        1  "
            ]
          },
          "metadata": {
            "tags": []
          }
        }
      ]
    },
    {
      "cell_type": "markdown",
      "source": "We will need to change data type of new `Age` columns `Age_Bins` from **category to int**.",
      "metadata": {
        "id": "Amu2EdAdWwj9"
      }
    },
    {
      "cell_type": "code",
      "source": "# change data type of Age_Bins using LabelEncoder\nnum = LabelEncoder()\ntrain_df['Age_Bins'] = num.fit_transform(train_df['Age_Bins'].astype('str'))",
      "metadata": {
        "id": "mzRS4CYoV-jj"
      },
      "execution_count": 23,
      "outputs": []
    },
    {
      "cell_type": "code",
      "source": "train_df.info()",
      "metadata": {
        "colab": {
          "base_uri": "https://localhost:8080/"
        },
        "id": "6shl6wvxRE-W",
        "outputId": "6710add6-03e6-4134-9152-4996a6e18bf6"
      },
      "execution_count": 24,
      "outputs": [
        {
          "output_type": "stream",
          "text": "<class 'pandas.core.frame.DataFrame'>\n\nInt64Index: 714 entries, 0 to 890\n\nData columns (total 12 columns):\n\n #   Column       Non-Null Count  Dtype  \n\n---  ------       --------------  -----  \n\n 0   PassengerId  714 non-null    int64  \n\n 1   Survived     714 non-null    int64  \n\n 2   Pclass       714 non-null    int64  \n\n 3   Name         714 non-null    object \n\n 4   Sex          714 non-null    object \n\n 5   SibSp        714 non-null    int64  \n\n 6   Parch        714 non-null    int64  \n\n 7   Ticket       714 non-null    object \n\n 8   Fare         714 non-null    float64\n\n 9   Cabin        714 non-null    object \n\n 10  Embarked     714 non-null    object \n\n 11  Age_Bins     714 non-null    int64  \n\ndtypes: float64(1), int64(6), object(5)\n\nmemory usage: 92.5+ KB\n",
          "name": "stdout"
        }
      ]
    },
    {
      "cell_type": "code",
      "source": "# Visualizing 'Survived' Vs 'Age_Bins'\nsns.countplot(x='Age_Bins', data=train_df, hue='Survived')\nplt.title('Age_Bins Vs Survived', fontsize=20)\nplt.xlabel('Age_Bins', fontsize=15)\nplt.ylabel('Survival Count', fontsize=15)\nplt.show()\n\n# Visualizing 'Pclass' Vs 'Age_Bins'\nsns.countplot(x='Age_Bins', data=train_df, hue='Pclass', palette='deep')\nplt.title('Age_Bins Vs Pclass', fontsize=20)\nplt.xlabel('Age_Bins', fontsize=15)\nplt.ylabel('Pclass', fontsize=15)\nplt.show()\n\n# Visualizing 'Gender' Vs 'Age_Bins'\nsns.countplot(x='Age_Bins', data=train_df, hue='Sex', palette='colorblind')\nplt.title('Age_Bins Vs Gender', fontsize=20)\nplt.xlabel('Age_Bins', fontsize=15)\nplt.ylabel('Gender', fontsize=15)\nplt.show()",
      "metadata": {
        "colab": {
          "base_uri": "https://localhost:8080/",
          "height": 887
        },
        "id": "vhccMk749-1B",
        "outputId": "a833e12d-5778-4ca8-b07a-b110f344d284"
      },
      "execution_count": 25,
      "outputs": [
        {
          "output_type": "display_data",
          "data": {
            "image/png": "[encoded data removed]",
            "text/plain": [
              "<Figure size 432x288 with 1 Axes>"
            ]
          },
          "metadata": {
            "tags": [],
            "needs_background": "light"
          }
        },
        {
          "output_type": "display_data",
          "data": {
            "image/png": "[encoded data removed]",
            "text/plain": [
              "<Figure size 432x288 with 1 Axes>"
            ]
          },
          "metadata": {
            "tags": [],
            "needs_background": "light"
          }
        },
        {
          "output_type": "display_data",
          "data": {
            "image/png": "[encoded data removed]",
            "text/plain": [
              "<Figure size 432x288 with 1 Axes>"
            ]
          },
          "metadata": {
            "tags": [],
            "needs_background": "light"
          }
        }
      ]
    },
    {
      "cell_type": "markdown",
      "source": "`0-20 = 0, 21-40 = 1, 41-60 = 2, 61-80 = 3`\n1. Passengers between age group of `21 to 40 had highest death counts`.\n2. While, passenger between age group of `61-80 had lowest death counts`.\n3. In above visualizations, last two visualizations prove that the reason behind high number of deaths will be counted for passengers of age group betweem 21 to 40 because<br>\n  - Most of the passengers in that age group are from 3rd class and this class seems to have higher number of deaths as per visualization. *{Refer `Age_Bins Vs Gender` and `Pclass Vs Survived` visualization respectively}*\n  - Most of the passengers are male in this age group and male will have higher number of deaths *{Refer Sex Vs Survived visualization}*",
      "metadata": {
        "id": "_fyoYgFa-xgp"
      }
    },
    {
      "cell_type": "markdown",
      "source": "### 2.1.3 Survived Vs SibSp",
      "metadata": {
        "id": "ue8krBwNoin3"
      }
    },
    {
      "cell_type": "code",
      "source": "# Visualizing 'Survived' Vs 'SibSp'\nsns.countplot(x='SibSp', data=train_df, hue='Survived')\nplt.title('SibSp Vs Survived', fontsize=20)\nplt.xlabel('SibSp', fontsize=15)\nplt.ylabel('Survival Count', fontsize=15)\nplt.legend(bbox_to_anchor=(1.01, 1),borderaxespad=0)\nplt.show()",
      "metadata": {
        "colab": {
          "base_uri": "https://localhost:8080/",
          "height": 305
        },
        "id": "IS2Q_OcVuGg7",
        "outputId": "99aba83e-f2c5-4995-8f46-18bf384a5549"
      },
      "execution_count": 26,
      "outputs": [
        {
          "output_type": "display_data",
          "data": {
            "image/png": "[encoded data removed]",
            "text/plain": [
              "<Figure size 432x288 with 1 Axes>"
            ]
          },
          "metadata": {
            "tags": [],
            "needs_background": "light"
          }
        }
      ]
    },
    {
      "cell_type": "markdown",
      "source": "1. Visualization shows that passengers with `0 or 2 or 3 or 4 or 5 siblings/spouses can have higher number of deaths(0) than survival (1)`.\n2. While passengers with with `1 sibling/spouse have less death counts and more survival count`.\n3. But passengers with `0 or 3 or 4 or 5 siblings/spouses are the ones with high death rates`.",
      "metadata": {
        "id": "oVb9cgdGGSn-"
      }
    },
    {
      "cell_type": "markdown",
      "source": "### 2.1.3 Survived Vs Parch",
      "metadata": {
        "id": "bl4h5emHomoR"
      }
    },
    {
      "cell_type": "code",
      "source": "# Visualizing 'Survived' Vs 'Parch'\nsns.countplot(x='Parch', data=train_df, hue='Survived')\nplt.title('Parch Vs Survived', fontsize=20)\nplt.xlabel('Parch', fontsize=15)\nplt.ylabel('Survival Count', fontsize=15)\nplt.legend(bbox_to_anchor=(1.01, 1),borderaxespad=0)\nplt.show()",
      "metadata": {
        "colab": {
          "base_uri": "https://localhost:8080/",
          "height": 305
        },
        "id": "jB3HuLQyxTca",
        "outputId": "3b45cd64-3a2c-4c15-cd30-7bc8eebe28d7"
      },
      "execution_count": 27,
      "outputs": [
        {
          "output_type": "display_data",
          "data": {
            "image/png": "[encoded data removed]",
            "text/plain": [
              "<Figure size 432x288 with 1 Axes>"
            ]
          },
          "metadata": {
            "tags": [],
            "needs_background": "light"
          }
        }
      ]
    },
    {
      "cell_type": "markdown",
      "source": "1. Passengers with `0 or 4 or 5 or 6 Parents / Childrens seems to have higher deaths (0) than survival (1)`.\n2. Passengers with `1 or 2 or 3 Parents/Childrens seems to have high surival chances than deaths`. \n",
      "metadata": {
        "id": "kCgnfCgbPiqm"
      }
    },
    {
      "cell_type": "markdown",
      "source": "### 2.1.3 Survived Vs Embarked",
      "metadata": {
        "id": "pqsgRpeTopUd"
      }
    },
    {
      "cell_type": "code",
      "source": "# Visualizing 'Survived' Vs 'Embarked'\nsns.countplot(x='Embarked', data=train_df, hue='Survived')\nplt.title('Embarked Vs Survived', fontsize=20)\nplt.xlabel('Embarked', fontsize=15)\nplt.ylabel('Survival Count', fontsize=15)\nplt.show()\n\n# Visualizing 'Gender' Vs 'Embarked'\nsns.countplot(x='Embarked', data=train_df, hue='Sex', palette='dark')\nplt.title('Embarked Vs Gender', fontsize=20)\nplt.xlabel('Embarked', fontsize=15)\nplt.ylabel('Gender Count', fontsize=15)\nplt.show()\n\n# Visualizing 'Pclass' Vs 'Embarked'\nsns.countplot(x='Embarked', data=train_df, hue='Pclass', palette='bright')\nplt.title('Embarked Vs Pclass', fontsize=20)\nplt.xlabel('Embarked', fontsize=15)\nplt.ylabel('Pclass Count', fontsize=15)\nplt.show()",
      "metadata": {
        "colab": {
          "base_uri": "https://localhost:8080/",
          "height": 881
        },
        "id": "13rIsCOBy_RQ",
        "outputId": "03691cab-d5a8-4eaf-d5c7-dbcef8d26659"
      },
      "execution_count": 28,
      "outputs": [
        {
          "output_type": "display_data",
          "data": {
            "image/png": "[encoded data removed]",
            "text/plain": [
              "<Figure size 432x288 with 1 Axes>"
            ]
          },
          "metadata": {
            "tags": [],
            "needs_background": "light"
          }
        },
        {
          "output_type": "display_data",
          "data": {
            "image/png": "[encoded data removed]",
            "text/plain": [
              "<Figure size 432x288 with 1 Axes>"
            ]
          },
          "metadata": {
            "tags": [],
            "needs_background": "light"
          }
        },
        {
          "output_type": "display_data",
          "data": {
            "image/png": "[encoded data removed]",
            "text/plain": [
              "<Figure size 432x288 with 1 Axes>"
            ]
          },
          "metadata": {
            "tags": [],
            "needs_background": "light"
          }
        }
      ]
    },
    {
      "cell_type": "markdown",
      "source": "1. Passengers embraked from Southampton and Queensland will have high death counts than survival.\n2. While passengers embarked from Cherbourgh will have high survival chances.\n3. Reason behind such difference could be seen in **Embarked Vs Gender** and **Embarked Vs Pclass** visualization that\n  - Firstly, the number of male count is high among passengers embarking from Southampton and slightly high in Queensland. \n  - Secondly, passengers embarked from these two places have most passengers travelling in 3rd class.\n  - We have seen that males have low survival chances and if they having 3rd class ticket than survival chances depletes drasctically.<br>\n`Note: Above two reasons justify the higher rate of deaths in passengers embarked from Southampon and Queensland`.",
      "metadata": {
        "id": "Uu7RX_KZQUWp"
      }
    },
    {
      "cell_type": "markdown",
      "source": "# Step 3: Data Preparation",
      "metadata": {
        "id": "3n1QYhDYtKzp"
      }
    },
    {
      "cell_type": "markdown",
      "source": "## 3.1 Dropping Irrelavant variables",
      "metadata": {
        "id": "6FHEFlgo5IPZ"
      }
    },
    {
      "cell_type": "markdown",
      "source": "#### `Fare`, `Ticket`, `PassengerId`, `Cabin` and `Name` columns make no impact and seems to be irrelevant for prediction. Hence, we can drop them.",
      "metadata": {
        "id": "smNrWTEKnHhN"
      }
    },
    {
      "cell_type": "code",
      "source": "# Drop Fare, Ticket, PassengerId, Cabin and Name columns\ntrain_df.drop(['Fare','Ticket','PassengerId','Cabin','Name'], axis=1, inplace=True)\ntrain_df.head()",
      "metadata": {
        "colab": {
          "base_uri": "https://localhost:8080/",
          "height": 206
        },
        "id": "EKjw1XnXnHKX",
        "outputId": "b0bf129c-3cfd-4326-ca5b-6f21d9e55399"
      },
      "execution_count": 29,
      "outputs": [
        {
          "output_type": "execute_result",
          "execution_count": 29,
          "data": {
            "text/html": [
              "<div>\n",
              "<style scoped>\n",
              "    .dataframe tbody tr th:only-of-type {\n",
              "        vertical-align: middle;\n",
              "    }\n",
              "\n",
              "    .dataframe tbody tr th {\n",
              "        vertical-align: top;\n",
              "    }\n",
              "\n",
              "    .dataframe thead th {\n",
              "        text-align: right;\n",
              "    }\n",
              "</style>\n",
              "<table border=\"1\" class=\"dataframe\">\n",
              "  <thead>\n",
              "    <tr style=\"text-align: right;\">\n",
              "      <th></th>\n",
              "      <th>Survived</th>\n",
              "      <th>Pclass</th>\n",
              "      <th>Sex</th>\n",
              "      <th>SibSp</th>\n",
              "      <th>Parch</th>\n",
              "      <th>Embarked</th>\n",
              "      <th>Age_Bins</th>\n",
              "    </tr>\n",
              "  </thead>\n",
              "  <tbody>\n",
              "    <tr>\n",
              "      <th>0</th>\n",
              "      <td>0</td>\n",
              "      <td>3</td>\n",
              "      <td>male</td>\n",
              "      <td>1</td>\n",
              "      <td>0</td>\n",
              "      <td>S</td>\n",
              "      <td>1</td>\n",
              "    </tr>\n",
              "    <tr>\n",
              "      <th>1</th>\n",
              "      <td>1</td>\n",
              "      <td>1</td>\n",
              "      <td>female</td>\n",
              "      <td>1</td>\n",
              "      <td>0</td>\n",
              "      <td>C</td>\n",
              "      <td>1</td>\n",
              "    </tr>\n",
              "    <tr>\n",
              "      <th>2</th>\n",
              "      <td>1</td>\n",
              "      <td>3</td>\n",
              "      <td>female</td>\n",
              "      <td>0</td>\n",
              "      <td>0</td>\n",
              "      <td>S</td>\n",
              "      <td>1</td>\n",
              "    </tr>\n",
              "    <tr>\n",
              "      <th>3</th>\n",
              "      <td>1</td>\n",
              "      <td>1</td>\n",
              "      <td>female</td>\n",
              "      <td>1</td>\n",
              "      <td>0</td>\n",
              "      <td>S</td>\n",
              "      <td>1</td>\n",
              "    </tr>\n",
              "    <tr>\n",
              "      <th>4</th>\n",
              "      <td>0</td>\n",
              "      <td>3</td>\n",
              "      <td>male</td>\n",
              "      <td>0</td>\n",
              "      <td>0</td>\n",
              "      <td>S</td>\n",
              "      <td>1</td>\n",
              "    </tr>\n",
              "  </tbody>\n",
              "</table>\n",
              "</div>"
            ],
            "text/plain": [
              "   Survived  Pclass     Sex  SibSp  Parch Embarked  Age_Bins\n",
              "0         0       3    male      1      0        S         1\n",
              "1         1       1  female      1      0        C         1\n",
              "2         1       3  female      0      0        S         1\n",
              "3         1       1  female      1      0        S         1\n",
              "4         0       3    male      0      0        S         1"
            ]
          },
          "metadata": {
            "tags": []
          }
        }
      ]
    },
    {
      "cell_type": "code",
      "source": "# conforming changes\ntrain_df.head()",
      "metadata": {
        "colab": {
          "base_uri": "https://localhost:8080/",
          "height": 206
        },
        "id": "E8Irv-RYTNwB",
        "outputId": "dc8bff14-0ef3-4ac0-c620-6053c0fddc4b"
      },
      "execution_count": 30,
      "outputs": [
        {
          "output_type": "execute_result",
          "execution_count": 30,
          "data": {
            "text/html": [
              "<div>\n",
              "<style scoped>\n",
              "    .dataframe tbody tr th:only-of-type {\n",
              "        vertical-align: middle;\n",
              "    }\n",
              "\n",
              "    .dataframe tbody tr th {\n",
              "        vertical-align: top;\n",
              "    }\n",
              "\n",
              "    .dataframe thead th {\n",
              "        text-align: right;\n",
              "    }\n",
              "</style>\n",
              "<table border=\"1\" class=\"dataframe\">\n",
              "  <thead>\n",
              "    <tr style=\"text-align: right;\">\n",
              "      <th></th>\n",
              "      <th>Survived</th>\n",
              "      <th>Pclass</th>\n",
              "      <th>Sex</th>\n",
              "      <th>SibSp</th>\n",
              "      <th>Parch</th>\n",
              "      <th>Embarked</th>\n",
              "      <th>Age_Bins</th>\n",
              "    </tr>\n",
              "  </thead>\n",
              "  <tbody>\n",
              "    <tr>\n",
              "      <th>0</th>\n",
              "      <td>0</td>\n",
              "      <td>3</td>\n",
              "      <td>male</td>\n",
              "      <td>1</td>\n",
              "      <td>0</td>\n",
              "      <td>S</td>\n",
              "      <td>1</td>\n",
              "    </tr>\n",
              "    <tr>\n",
              "      <th>1</th>\n",
              "      <td>1</td>\n",
              "      <td>1</td>\n",
              "      <td>female</td>\n",
              "      <td>1</td>\n",
              "      <td>0</td>\n",
              "      <td>C</td>\n",
              "      <td>1</td>\n",
              "    </tr>\n",
              "    <tr>\n",
              "      <th>2</th>\n",
              "      <td>1</td>\n",
              "      <td>3</td>\n",
              "      <td>female</td>\n",
              "      <td>0</td>\n",
              "      <td>0</td>\n",
              "      <td>S</td>\n",
              "      <td>1</td>\n",
              "    </tr>\n",
              "    <tr>\n",
              "      <th>3</th>\n",
              "      <td>1</td>\n",
              "      <td>1</td>\n",
              "      <td>female</td>\n",
              "      <td>1</td>\n",
              "      <td>0</td>\n",
              "      <td>S</td>\n",
              "      <td>1</td>\n",
              "    </tr>\n",
              "    <tr>\n",
              "      <th>4</th>\n",
              "      <td>0</td>\n",
              "      <td>3</td>\n",
              "      <td>male</td>\n",
              "      <td>0</td>\n",
              "      <td>0</td>\n",
              "      <td>S</td>\n",
              "      <td>1</td>\n",
              "    </tr>\n",
              "  </tbody>\n",
              "</table>\n",
              "</div>"
            ],
            "text/plain": [
              "   Survived  Pclass     Sex  SibSp  Parch Embarked  Age_Bins\n",
              "0         0       3    male      1      0        S         1\n",
              "1         1       1  female      1      0        C         1\n",
              "2         1       3  female      0      0        S         1\n",
              "3         1       1  female      1      0        S         1\n",
              "4         0       3    male      0      0        S         1"
            ]
          },
          "metadata": {
            "tags": []
          }
        }
      ]
    },
    {
      "cell_type": "markdown",
      "source": "## 3.2 Convert Categorical variable to Ordinal variables",
      "metadata": {
        "id": "-QDRsGno5SVA"
      }
    },
    {
      "cell_type": "markdown",
      "source": "#### To bring more understanding let's convert columns like `Sex` and `Embarked` to ordinal category 0,1,2,etc.",
      "metadata": {
        "id": "itv4ajavosmV"
      }
    },
    {
      "cell_type": "code",
      "source": "# Convert male = 0 and female = 0 in column Sex\ntrain_df['Sex'] = train_df['Sex'].map(dict(zip(['male','female'],[0,1])))",
      "metadata": {
        "id": "tRDvBu8lqMo-"
      },
      "execution_count": 31,
      "outputs": []
    },
    {
      "cell_type": "code",
      "source": "# Convert C=0, Q=1 and S=2 in Embarked column\ntrain_df['Embarked'] = train_df['Embarked'].map(dict(zip(['C','Q','S'],[0,1,2])))",
      "metadata": {
        "id": "ezAIOMoxsdgm"
      },
      "execution_count": 32,
      "outputs": []
    },
    {
      "cell_type": "code",
      "source": "# conforming changes in data\ntrain_df.head()",
      "metadata": {
        "colab": {
          "base_uri": "https://localhost:8080/",
          "height": 206
        },
        "id": "NzQlMhmLrbQK",
        "outputId": "7747816c-f8eb-4b2c-f692-5f20d81c1cbd"
      },
      "execution_count": 33,
      "outputs": [
        {
          "output_type": "execute_result",
          "execution_count": 33,
          "data": {
            "text/html": [
              "<div>\n",
              "<style scoped>\n",
              "    .dataframe tbody tr th:only-of-type {\n",
              "        vertical-align: middle;\n",
              "    }\n",
              "\n",
              "    .dataframe tbody tr th {\n",
              "        vertical-align: top;\n",
              "    }\n",
              "\n",
              "    .dataframe thead th {\n",
              "        text-align: right;\n",
              "    }\n",
              "</style>\n",
              "<table border=\"1\" class=\"dataframe\">\n",
              "  <thead>\n",
              "    <tr style=\"text-align: right;\">\n",
              "      <th></th>\n",
              "      <th>Survived</th>\n",
              "      <th>Pclass</th>\n",
              "      <th>Sex</th>\n",
              "      <th>SibSp</th>\n",
              "      <th>Parch</th>\n",
              "      <th>Embarked</th>\n",
              "      <th>Age_Bins</th>\n",
              "    </tr>\n",
              "  </thead>\n",
              "  <tbody>\n",
              "    <tr>\n",
              "      <th>0</th>\n",
              "      <td>0</td>\n",
              "      <td>3</td>\n",
              "      <td>0</td>\n",
              "      <td>1</td>\n",
              "      <td>0</td>\n",
              "      <td>2</td>\n",
              "      <td>1</td>\n",
              "    </tr>\n",
              "    <tr>\n",
              "      <th>1</th>\n",
              "      <td>1</td>\n",
              "      <td>1</td>\n",
              "      <td>1</td>\n",
              "      <td>1</td>\n",
              "      <td>0</td>\n",
              "      <td>0</td>\n",
              "      <td>1</td>\n",
              "    </tr>\n",
              "    <tr>\n",
              "      <th>2</th>\n",
              "      <td>1</td>\n",
              "      <td>3</td>\n",
              "      <td>1</td>\n",
              "      <td>0</td>\n",
              "      <td>0</td>\n",
              "      <td>2</td>\n",
              "      <td>1</td>\n",
              "    </tr>\n",
              "    <tr>\n",
              "      <th>3</th>\n",
              "      <td>1</td>\n",
              "      <td>1</td>\n",
              "      <td>1</td>\n",
              "      <td>1</td>\n",
              "      <td>0</td>\n",
              "      <td>2</td>\n",
              "      <td>1</td>\n",
              "    </tr>\n",
              "    <tr>\n",
              "      <th>4</th>\n",
              "      <td>0</td>\n",
              "      <td>3</td>\n",
              "      <td>0</td>\n",
              "      <td>0</td>\n",
              "      <td>0</td>\n",
              "      <td>2</td>\n",
              "      <td>1</td>\n",
              "    </tr>\n",
              "  </tbody>\n",
              "</table>\n",
              "</div>"
            ],
            "text/plain": [
              "   Survived  Pclass  Sex  SibSp  Parch  Embarked  Age_Bins\n",
              "0         0       3    0      1      0         2         1\n",
              "1         1       1    1      1      0         0         1\n",
              "2         1       3    1      0      0         2         1\n",
              "3         1       1    1      1      0         2         1\n",
              "4         0       3    0      0      0         2         1"
            ]
          },
          "metadata": {
            "tags": []
          }
        }
      ]
    },
    {
      "cell_type": "markdown",
      "source": "## 3.3 Visualize Correlation between all variables",
      "metadata": {
        "id": "vPp2rp2b5vxg"
      }
    },
    {
      "cell_type": "code",
      "source": "train_df.head()",
      "metadata": {
        "colab": {
          "base_uri": "https://localhost:8080/",
          "height": 206
        },
        "id": "uMDslzuy1AB0",
        "outputId": "27687344-8c32-401d-a14e-5096cfb62c3e"
      },
      "execution_count": 34,
      "outputs": [
        {
          "output_type": "execute_result",
          "execution_count": 34,
          "data": {
            "text/html": [
              "<div>\n",
              "<style scoped>\n",
              "    .dataframe tbody tr th:only-of-type {\n",
              "        vertical-align: middle;\n",
              "    }\n",
              "\n",
              "    .dataframe tbody tr th {\n",
              "        vertical-align: top;\n",
              "    }\n",
              "\n",
              "    .dataframe thead th {\n",
              "        text-align: right;\n",
              "    }\n",
              "</style>\n",
              "<table border=\"1\" class=\"dataframe\">\n",
              "  <thead>\n",
              "    <tr style=\"text-align: right;\">\n",
              "      <th></th>\n",
              "      <th>Survived</th>\n",
              "      <th>Pclass</th>\n",
              "      <th>Sex</th>\n",
              "      <th>SibSp</th>\n",
              "      <th>Parch</th>\n",
              "      <th>Embarked</th>\n",
              "      <th>Age_Bins</th>\n",
              "    </tr>\n",
              "  </thead>\n",
              "  <tbody>\n",
              "    <tr>\n",
              "      <th>0</th>\n",
              "      <td>0</td>\n",
              "      <td>3</td>\n",
              "      <td>0</td>\n",
              "      <td>1</td>\n",
              "      <td>0</td>\n",
              "      <td>2</td>\n",
              "      <td>1</td>\n",
              "    </tr>\n",
              "    <tr>\n",
              "      <th>1</th>\n",
              "      <td>1</td>\n",
              "      <td>1</td>\n",
              "      <td>1</td>\n",
              "      <td>1</td>\n",
              "      <td>0</td>\n",
              "      <td>0</td>\n",
              "      <td>1</td>\n",
              "    </tr>\n",
              "    <tr>\n",
              "      <th>2</th>\n",
              "      <td>1</td>\n",
              "      <td>3</td>\n",
              "      <td>1</td>\n",
              "      <td>0</td>\n",
              "      <td>0</td>\n",
              "      <td>2</td>\n",
              "      <td>1</td>\n",
              "    </tr>\n",
              "    <tr>\n",
              "      <th>3</th>\n",
              "      <td>1</td>\n",
              "      <td>1</td>\n",
              "      <td>1</td>\n",
              "      <td>1</td>\n",
              "      <td>0</td>\n",
              "      <td>2</td>\n",
              "      <td>1</td>\n",
              "    </tr>\n",
              "    <tr>\n",
              "      <th>4</th>\n",
              "      <td>0</td>\n",
              "      <td>3</td>\n",
              "      <td>0</td>\n",
              "      <td>0</td>\n",
              "      <td>0</td>\n",
              "      <td>2</td>\n",
              "      <td>1</td>\n",
              "    </tr>\n",
              "  </tbody>\n",
              "</table>\n",
              "</div>"
            ],
            "text/plain": [
              "   Survived  Pclass  Sex  SibSp  Parch  Embarked  Age_Bins\n",
              "0         0       3    0      1      0         2         1\n",
              "1         1       1    1      1      0         0         1\n",
              "2         1       3    1      0      0         2         1\n",
              "3         1       1    1      1      0         2         1\n",
              "4         0       3    0      0      0         2         1"
            ]
          },
          "metadata": {
            "tags": []
          }
        }
      ]
    },
    {
      "cell_type": "code",
      "source": "# Visualizing correlation of all variables with traget variable\nplt.figure(figsize=(12,8))\nsns.heatmap(train_df.corr().round(2), annot=True, cmap='YlGnBu', center=0)\nplt.show()",
      "metadata": {
        "colab": {
          "base_uri": "https://localhost:8080/",
          "height": 488
        },
        "id": "b88HRXpr5pdT",
        "outputId": "86bcafdb-c171-4b72-9819-05ba9d3403ee"
      },
      "execution_count": 35,
      "outputs": [
        {
          "output_type": "display_data",
          "data": {
            "image/png": "[encoded data removed]",
            "text/plain": [
              "<Figure size 864x576 with 2 Axes>"
            ]
          },
          "metadata": {
            "tags": [],
            "needs_background": "light"
          }
        }
      ]
    },
    {
      "cell_type": "markdown",
      "source": "1. `Sex` variables seems to be positively correlated with target variable `Survived` and seems to be highly correlated with target variable.\n2. `Pclass` variables seems to be negatively correlated with target variable `Survived` and seems to be least correlated with target variable.\n3. Remaining variables `Parch`,`SibSp`,`Age_Bins` and `Embarked` also seems to be correlated with good numbers. ",
      "metadata": {
        "id": "XgB9EpzU7JL3"
      }
    },
    {
      "cell_type": "markdown",
      "source": "# Conclusion\n\n---\nFollowing variables could be considered as importnat variables for model building and these variables are perfectlt correlated to target variable **Survived**. <br>\n- Pcalss, \n- Sex, \n- SibSp, \n- Parch,\n- Embarked,\n- Age_Bins.\n---\n\n\n",
      "metadata": {
        "id": "zvZxsFrUFxj-"
      }
    }
  ]
}